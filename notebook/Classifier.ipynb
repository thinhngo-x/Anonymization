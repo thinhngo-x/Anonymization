{
  "nbformat": 4,
  "nbformat_minor": 0,
  "metadata": {
    "colab": {
      "name": "Classifier.ipynb",
      "provenance": [],
      "toc_visible": true,
      "include_colab_link": true
    },
    "kernelspec": {
      "name": "python3",
      "display_name": "Python 3"
    },
    "accelerator": "GPU"
  },
  "cells": [
    {
      "cell_type": "markdown",
      "metadata": {
        "id": "view-in-github",
        "colab_type": "text"
      },
      "source": [
        "<a href=\"https://colab.research.google.com/github/thinhngo-x/Anonymization/blob/alwin/notebook/Classifier.ipynb\" target=\"_parent\"><img src=\"https://colab.research.google.com/assets/colab-badge.svg\" alt=\"Open In Colab\"/></a>"
      ]
    },
    {
      "cell_type": "code",
      "metadata": {
        "id": "8_NyzCSTIO0m",
        "colab_type": "code",
        "colab": {}
      },
      "source": [
        "import torch\n",
        "from torch import nn\n",
        "import sklearn\n",
        "from sklearn.linear_model import LogisticRegressionCV\n",
        "import numpy as np\n",
        "from sklearn.neighbors import KNeighborsClassifier\n",
        "from sklearn.random_projection import GaussianRandomProjection\n",
        "from sklearn.metrics import confusion_matrix, classification_report\n",
        "import time\n",
        "from tqdm import tqdm"
      ],
      "execution_count": 0,
      "outputs": []
    },
    {
      "cell_type": "code",
      "metadata": {
        "id": "w6Kx1x4sIyXj",
        "colab_type": "code",
        "outputId": "1bc1d787-9dee-4db4-8cee-a8239bf0c4a1",
        "colab": {
          "base_uri": "https://localhost:8080/",
          "height": 54
        }
      },
      "source": [
        "from google.colab import drive\n",
        "drive.mount(\"/content/drive\")\n",
        "root = \"/content/drive/My Drive/Anonymization\"\n",
        "\n",
        "label_map = {\n",
        "    \"CONLL2003\" : [\"O\", \"B-MISC\", \"I-MISC\", \"B-PER\", \"I-PER\", \"B-ORG\", \"I-ORG\", \"B-LOC\", \"I-LOC\"],\n",
        "    \"WNUT17\" : [\"O\", \"B-location\", \"I-location\", \"B-person\", \"I-person\", \"B-group\", \"I-group\",\n",
        "                \"B-corporation\", \"I-corporation\", \"B-product\", \"I-product\",\n",
        "                \"B-creative-work\", \"I-creative-work\"]\n",
        "}"
      ],
      "execution_count": 104,
      "outputs": [
        {
          "output_type": "stream",
          "text": [
            "Drive already mounted at /content/drive; to attempt to forcibly remount, call drive.mount(\"/content/drive\", force_remount=True).\n"
          ],
          "name": "stdout"
        }
      ]
    },
    {
      "cell_type": "markdown",
      "metadata": {
        "id": "SzmFtTk1JL0z",
        "colab_type": "text"
      },
      "source": [
        "# 1. k-NN Classification"
      ]
    },
    {
      "cell_type": "code",
      "metadata": {
        "id": "fDVQuaPxAX0s",
        "colab_type": "code",
        "colab": {}
      },
      "source": [
        "n_components = 10\n",
        "n_neighbors = 30\n",
        "knn = KNeighborsClassifier(n_neighbors=n_neighbors)"
      ],
      "execution_count": 0,
      "outputs": []
    },
    {
      "cell_type": "markdown",
      "metadata": {
        "id": "95xDEI0pJsTa",
        "colab_type": "text"
      },
      "source": [
        "## On **ConLL-2003** pre-processed by BERT"
      ]
    },
    {
      "cell_type": "code",
      "metadata": {
        "id": "BBMNEPQmJqpR",
        "colab_type": "code",
        "outputId": "471a1f4f-00b5-40d2-a949-a1cbc85c7cdf",
        "colab": {
          "base_uri": "https://localhost:8080/",
          "height": 0
        }
      },
      "source": [
        "dataset = \"/CONLL2003_BERT\"\n",
        "\n",
        "train = np.load(root+dataset+\"/representation.train.npy\")\n",
        "train_labels = np.load(root+dataset+\"/true_labels.train.npy\")\n",
        "# train_labels = np.logical_or(train_labels == 3, train_labels == 4)\n",
        "\n",
        "test = np.load(root+dataset+\"/representation.testb.npy\")\n",
        "test_labels = np.load(root+dataset+\"/true_labels.testb.npy\")\n",
        "# test_labels = np.logical_or(test_labels == 3, test_labels == 4)\n",
        "\n",
        "random_projection = GaussianRandomProjection(n_components=n_components)\n",
        "train_projected = random_projection.fit_transform(train)\n",
        "test_projected = random_projection.transform(test)\n",
        "\n",
        "print(train.shape)\n",
        "print(train_projected.shape)\n",
        "\n",
        "print(test.shape)\n",
        "print(test_projected.shape)"
      ],
      "execution_count": 106,
      "outputs": [
        {
          "output_type": "stream",
          "text": [
            "(203593, 1024)\n",
            "(203593, 10)\n",
            "(46417, 1024)\n",
            "(46417, 10)\n"
          ],
          "name": "stdout"
        }
      ]
    },
    {
      "cell_type": "code",
      "metadata": {
        "id": "afStHt2dKhCk",
        "colab_type": "code",
        "outputId": "d01528ce-d8ff-42a4-8678-cdf74726369e",
        "colab": {
          "base_uri": "https://localhost:8080/",
          "height": 0
        }
      },
      "source": [
        "knn.fit(train_projected, train_labels)"
      ],
      "execution_count": 107,
      "outputs": [
        {
          "output_type": "execute_result",
          "data": {
            "text/plain": [
              "KNeighborsClassifier(algorithm='auto', leaf_size=30, metric='minkowski',\n",
              "                     metric_params=None, n_jobs=None, n_neighbors=30, p=2,\n",
              "                     weights='uniform')"
            ]
          },
          "metadata": {
            "tags": []
          },
          "execution_count": 107
        }
      ]
    },
    {
      "cell_type": "code",
      "metadata": {
        "id": "6jfZpuJxNr8x",
        "colab_type": "code",
        "outputId": "a67e6e7f-90eb-43cf-990f-caf94770495c",
        "colab": {
          "base_uri": "https://localhost:8080/",
          "height": 0
        }
      },
      "source": [
        "s = time.time()\n",
        "preds = knn.predict(test_projected)\n",
        "print(\"Time computing : %d s\" % (time.time()-s))\n",
        "print(classification_report(test_labels, preds,\n",
        "        labels = range(9),\n",
        "        target_names=[\"O\", \"B-MISC\", \"I-MISC\", \"B-PER\", \"I-PER\", \"B-ORG\", \"I-ORG\", \"B-LOC\", \"I-LOC\"]))"
      ],
      "execution_count": 108,
      "outputs": [
        {
          "output_type": "stream",
          "text": [
            "Time computing : 44 s\n",
            "              precision    recall  f1-score   support\n",
            "\n",
            "           O       0.85      0.99      0.91     38312\n",
            "      B-MISC       0.00      0.00      0.00         9\n",
            "      I-MISC       0.33      0.06      0.11       909\n",
            "       B-PER       0.00      0.00      0.00         0\n",
            "       I-PER       0.47      0.03      0.06      2769\n",
            "       B-ORG       0.00      0.00      0.00         5\n",
            "       I-ORG       0.55      0.12      0.20      2491\n",
            "       B-LOC       0.00      0.00      0.00         6\n",
            "       I-LOC       0.64      0.23      0.33      1916\n",
            "\n",
            "   micro avg       0.84      0.84      0.84     46417\n",
            "   macro avg       0.32      0.16      0.18     46417\n",
            "weighted avg       0.79      0.84      0.78     46417\n",
            "\n"
          ],
          "name": "stdout"
        },
        {
          "output_type": "stream",
          "text": [
            "/usr/local/lib/python3.6/dist-packages/sklearn/metrics/_classification.py:1272: UndefinedMetricWarning: Precision and F-score are ill-defined and being set to 0.0 in labels with no predicted samples. Use `zero_division` parameter to control this behavior.\n",
            "  _warn_prf(average, modifier, msg_start, len(result))\n",
            "/usr/local/lib/python3.6/dist-packages/sklearn/metrics/_classification.py:1272: UndefinedMetricWarning: Recall and F-score are ill-defined and being set to 0.0 in labels with no true samples. Use `zero_division` parameter to control this behavior.\n",
            "  _warn_prf(average, modifier, msg_start, len(result))\n"
          ],
          "name": "stderr"
        }
      ]
    },
    {
      "cell_type": "markdown",
      "metadata": {
        "id": "qZsexhSK0kcE",
        "colab_type": "text"
      },
      "source": [
        "## On **ConLL-2003** pre-processed by XLNet"
      ]
    },
    {
      "cell_type": "code",
      "metadata": {
        "id": "tYEZrs0J0tcu",
        "colab_type": "code",
        "outputId": "f7832718-923d-493c-e8a2-849f66f08f51",
        "colab": {
          "base_uri": "https://localhost:8080/",
          "height": 0
        }
      },
      "source": [
        "dataset = \"/CONLL2003_XLNET\"\n",
        "\n",
        "train = np.load(root+dataset+\"/representation.train.npy\")\n",
        "train_labels = np.load(root+dataset+\"/true_labels.train.npy\")\n",
        "# train_labels = np.logical_or(train_labels == 3, train_labels == 4)\n",
        "\n",
        "test = np.load(root+dataset+\"/representation.testb.npy\")\n",
        "test_labels = np.load(root+dataset+\"/true_labels.testb.npy\")\n",
        "# test_labels = np.logical_or(test_labels == 3, test_labels == 4)\n",
        "\n",
        "random_projection = GaussianRandomProjection(n_components=n_components)\n",
        "train_projected = random_projection.fit_transform(train)\n",
        "test_projected = random_projection.transform(test)\n",
        "\n",
        "print(train.shape)\n",
        "print(train_projected.shape)\n",
        "\n",
        "print(test.shape)\n",
        "print(test_projected.shape)"
      ],
      "execution_count": 109,
      "outputs": [
        {
          "output_type": "stream",
          "text": [
            "(203583, 1024)\n",
            "(203583, 10)\n",
            "(46377, 1024)\n",
            "(46377, 10)\n"
          ],
          "name": "stdout"
        }
      ]
    },
    {
      "cell_type": "code",
      "metadata": {
        "id": "loM5OQdz0ygs",
        "colab_type": "code",
        "outputId": "7c8f6afc-5768-4d88-936d-509f79bbe967",
        "colab": {
          "base_uri": "https://localhost:8080/",
          "height": 0
        }
      },
      "source": [
        "knn.fit(train_projected, train_labels)"
      ],
      "execution_count": 110,
      "outputs": [
        {
          "output_type": "execute_result",
          "data": {
            "text/plain": [
              "KNeighborsClassifier(algorithm='auto', leaf_size=30, metric='minkowski',\n",
              "                     metric_params=None, n_jobs=None, n_neighbors=30, p=2,\n",
              "                     weights='uniform')"
            ]
          },
          "metadata": {
            "tags": []
          },
          "execution_count": 110
        }
      ]
    },
    {
      "cell_type": "code",
      "metadata": {
        "id": "ZYBbomUW1C6Q",
        "colab_type": "code",
        "outputId": "b24d7d13-6223-4b94-d5d1-46a96417e1b4",
        "colab": {
          "base_uri": "https://localhost:8080/",
          "height": 0
        }
      },
      "source": [
        "s = time.time()\n",
        "preds = knn.predict(test_projected)\n",
        "print(\"Time computing : %d s\" % (time.time()-s))\n",
        "print(classification_report(test_labels, preds,\n",
        "        labels = range(9),\n",
        "        target_names=[\"O\", \"B-MISC\", \"I-MISC\", \"B-PER\", \"I-PER\", \"B-ORG\", \"I-ORG\", \"B-LOC\", \"I-LOC\"]))"
      ],
      "execution_count": 111,
      "outputs": [
        {
          "output_type": "stream",
          "text": [
            "Time computing : 28 s\n",
            "              precision    recall  f1-score   support\n",
            "\n",
            "           O       0.83      1.00      0.91     38288\n",
            "      B-MISC       0.00      0.00      0.00         9\n",
            "      I-MISC       0.12      0.01      0.01       909\n",
            "       B-PER       0.00      0.00      0.00         0\n",
            "       I-PER       0.37      0.01      0.03      2758\n",
            "       B-ORG       0.00      0.00      0.00         5\n",
            "       I-ORG       0.46      0.03      0.06      2491\n",
            "       B-LOC       0.00      0.00      0.00         6\n",
            "       I-LOC       0.47      0.02      0.03      1911\n",
            "\n",
            "   micro avg       0.83      0.83      0.83     46377\n",
            "   macro avg       0.25      0.12      0.12     46377\n",
            "weighted avg       0.75      0.83      0.75     46377\n",
            "\n"
          ],
          "name": "stdout"
        },
        {
          "output_type": "stream",
          "text": [
            "/usr/local/lib/python3.6/dist-packages/sklearn/metrics/_classification.py:1272: UndefinedMetricWarning: Precision and F-score are ill-defined and being set to 0.0 in labels with no predicted samples. Use `zero_division` parameter to control this behavior.\n",
            "  _warn_prf(average, modifier, msg_start, len(result))\n",
            "/usr/local/lib/python3.6/dist-packages/sklearn/metrics/_classification.py:1272: UndefinedMetricWarning: Recall and F-score are ill-defined and being set to 0.0 in labels with no true samples. Use `zero_division` parameter to control this behavior.\n",
            "  _warn_prf(average, modifier, msg_start, len(result))\n"
          ],
          "name": "stderr"
        }
      ]
    },
    {
      "cell_type": "markdown",
      "metadata": {
        "id": "TezzHiQU2Zf8",
        "colab_type": "text"
      },
      "source": [
        "## On **WNUT17** preprocessed by BERT"
      ]
    },
    {
      "cell_type": "code",
      "metadata": {
        "colab_type": "code",
        "id": "U2cH6sZV2kiR",
        "outputId": "e584bf15-1481-4708-c117-27fba5723d00",
        "colab": {
          "base_uri": "https://localhost:8080/",
          "height": 0
        }
      },
      "source": [
        "dataset = \"/WNUT17_BERT\"\n",
        "\n",
        "train = np.load(root+dataset+\"/representation.train.npy\")\n",
        "train_labels = np.load(root+dataset+\"/true_labels.train.npy\")\n",
        "# train_labels = np.logical_or(train_labels == 3, train_labels == 4)\n",
        "\n",
        "test = np.load(root+dataset+\"/representation.test.npy\")\n",
        "test_labels = np.load(root+dataset+\"/true_labels.test.npy\")\n",
        "# test_labels = np.logical_or(test_labels == 3, test_labels == 4)\n",
        "\n",
        "random_projection = GaussianRandomProjection(n_components=n_components)\n",
        "train_projected = random_projection.fit_transform(train)\n",
        "test_projected = random_projection.transform(test)\n",
        "\n",
        "print(train.shape)\n",
        "print(train_projected.shape)\n",
        "\n",
        "print(test.shape)\n",
        "print(test_projected.shape)"
      ],
      "execution_count": 112,
      "outputs": [
        {
          "output_type": "stream",
          "text": [
            "(62730, 1024)\n",
            "(62730, 10)\n",
            "(23364, 1024)\n",
            "(23364, 10)\n"
          ],
          "name": "stdout"
        }
      ]
    },
    {
      "cell_type": "code",
      "metadata": {
        "colab_type": "code",
        "id": "f_UxahcZ2mqG",
        "outputId": "c8e892d2-16a2-466e-b340-0ec6a43c2765",
        "colab": {
          "base_uri": "https://localhost:8080/",
          "height": 0
        }
      },
      "source": [
        "knn = KNeighborsClassifier(n_neighbors=20)\n",
        "knn.fit(train_projected, train_labels)"
      ],
      "execution_count": 113,
      "outputs": [
        {
          "output_type": "execute_result",
          "data": {
            "text/plain": [
              "KNeighborsClassifier(algorithm='auto', leaf_size=30, metric='minkowski',\n",
              "                     metric_params=None, n_jobs=None, n_neighbors=20, p=2,\n",
              "                     weights='uniform')"
            ]
          },
          "metadata": {
            "tags": []
          },
          "execution_count": 113
        }
      ]
    },
    {
      "cell_type": "code",
      "metadata": {
        "colab_type": "code",
        "id": "JOm8cwsL2oKV",
        "outputId": "b19943a6-7a68-4f42-f4f1-f851a6b87eb1",
        "colab": {
          "base_uri": "https://localhost:8080/",
          "height": 0
        }
      },
      "source": [
        "s = time.time()\n",
        "preds = knn.predict(test_projected)\n",
        "print(\"Time computing : %d s\" % (time.time()-s))\n",
        "print(classification_report(test_labels, preds,\n",
        "        labels = range(13),\n",
        "        target_names=[\"O\", \"B-location\", \"I-location\", \"B-person\", \"I-person\", \"B-group\", \"I-group\",\n",
        "                    \"B-corporation\", \"I-corporation\", \"B-product\", \"I-product\",\n",
        "                    \"B-creative-work\", \"I-creative-work\"]))"
      ],
      "execution_count": 114,
      "outputs": [
        {
          "output_type": "stream",
          "text": [
            "Time computing : 10 s\n",
            "                 precision    recall  f1-score   support\n",
            "\n",
            "              O       0.94      1.00      0.97     21904\n",
            "     B-location       0.00      0.00      0.00       114\n",
            "     I-location       0.00      0.00      0.00        33\n",
            "       B-person       0.00      0.00      0.00       411\n",
            "       I-person       0.00      0.00      0.00       121\n",
            "        B-group       0.00      0.00      0.00       154\n",
            "        I-group       0.00      0.00      0.00        59\n",
            "  B-corporation       0.00      0.00      0.00        86\n",
            "  I-corporation       0.00      0.00      0.00        31\n",
            "      B-product       0.00      0.00      0.00        93\n",
            "      I-product       0.00      0.00      0.00        55\n",
            "B-creative-work       0.00      0.00      0.00       131\n",
            "I-creative-work       0.00      0.00      0.00       172\n",
            "\n",
            "       accuracy                           0.94     23364\n",
            "      macro avg       0.07      0.08      0.07     23364\n",
            "   weighted avg       0.88      0.94      0.91     23364\n",
            "\n"
          ],
          "name": "stdout"
        },
        {
          "output_type": "stream",
          "text": [
            "/usr/local/lib/python3.6/dist-packages/sklearn/metrics/_classification.py:1272: UndefinedMetricWarning: Precision and F-score are ill-defined and being set to 0.0 in labels with no predicted samples. Use `zero_division` parameter to control this behavior.\n",
            "  _warn_prf(average, modifier, msg_start, len(result))\n"
          ],
          "name": "stderr"
        }
      ]
    },
    {
      "cell_type": "markdown",
      "metadata": {
        "id": "6dBeWhCm4Q4d",
        "colab_type": "text"
      },
      "source": [
        "# 2. Logistic Regression for classification"
      ]
    },
    {
      "cell_type": "code",
      "metadata": {
        "id": "JBn6VSYyGFGr",
        "colab_type": "code",
        "colab": {}
      },
      "source": [
        "errs_training = {}"
      ],
      "execution_count": 0,
      "outputs": []
    },
    {
      "cell_type": "code",
      "metadata": {
        "id": "rQI4RYpTCaqL",
        "colab_type": "code",
        "colab": {}
      },
      "source": [
        "def pipeline(dataset, path_train, path_train_label, path_test, path_test_label, label_map, model,\n",
        "             epocs=1500, optim = None, criteria = nn.CrossEntropyLoss(), use_cuda = True, steps = 50):\n",
        "    train = torch.Tensor(np.load(root + dataset + path_train))\n",
        "    train_labels = torch.Tensor(np.load(root + dataset + path_train_label)).type(torch.LongTensor)\n",
        "\n",
        "    test = torch.Tensor(np.load(root + dataset + path_test))\n",
        "    test_labels = np.load(root + dataset + path_test_label)\n",
        "\n",
        "    if use_cuda and torch.cuda.is_available():\n",
        "        train = train.cuda()\n",
        "        train_labels = train_labels.cuda()\n",
        "        test = test.cuda()\n",
        "        model.cuda()\n",
        "\n",
        "    if optim == None:\n",
        "        optim = torch.optim.Adam(model.parameters())\n",
        "\n",
        "    err_training = []\n",
        "\n",
        "    for i in tqdm(range(epocs), desc=\"Training\"):\n",
        "        optim.zero_grad()\n",
        "        pred = model(train)\n",
        "        loss = criteria(pred, train_labels)\n",
        "        if i % steps == steps-1:\n",
        "            err_training.append(loss.item())\n",
        "        loss.backward()\n",
        "        optim.step()\n",
        "\n",
        "    model.eval()\n",
        "    s = time.time()\n",
        "    with torch.no_grad():\n",
        "        pred = model(test)\n",
        "    preds = np.argmax(pred.detach().cpu().numpy(), axis=1)\n",
        "    print(\"\\n\")\n",
        "    print(\"Time computing: %d s\" % (time.time() - s))\n",
        "    stats = classification_report(test_labels, preds,\n",
        "                                  labels = range(len(label_map)),\n",
        "                                  target_names = label_map\n",
        "                                  )\n",
        "    print(\"F2 score for class PERSON is: \",\n",
        "        sklearn.metrics.fbeta_score(test_labels, preds, 2, labels=[3,4], average=None))\n",
        "    return err_training, stats"
      ],
      "execution_count": 0,
      "outputs": []
    },
    {
      "cell_type": "markdown",
      "metadata": {
        "colab_type": "text",
        "id": "3TkmUU9N73sp"
      },
      "source": [
        "## On **ConLL-2003** pre-processed by BERT"
      ]
    },
    {
      "cell_type": "code",
      "metadata": {
        "id": "E0xuTCoC7kU6",
        "colab_type": "code",
        "outputId": "24090b23-6d15-4d98-bcec-f6f5f4556514",
        "colab": {
          "base_uri": "https://localhost:8080/",
          "height": 496
        }
      },
      "source": [
        "fc = nn.Sequential(\n",
        "    nn.Linear(1024, 9),\n",
        "    nn.Sigmoid()\n",
        ")\n",
        "s = time.time()\n",
        "errs, res = pipeline(\"/CONLL2003_BERT\", \"/representation.train.npy\", \"/true_labels.train.npy\",\n",
        "                     \"/representation.testb.npy\", \"/true_labels.testb.npy\", label_map[\"CONLL2003\"], fc)\n",
        "errs_training[\"Bert + Logistic on ConLL2003\"] = errs\n",
        "print(res)"
      ],
      "execution_count": 117,
      "outputs": [
        {
          "output_type": "stream",
          "text": [
            "Training: 100%|██████████| 1500/1500 [00:25<00:00, 58.10it/s]"
          ],
          "name": "stderr"
        },
        {
          "output_type": "stream",
          "text": [
            "\n",
            "\n",
            "Time computing: 0 s\n",
            "F2 score for class PERSON is:  [0.         0.83604496]\n",
            "              precision    recall  f1-score   support\n",
            "\n",
            "           O       0.97      0.99      0.98     38312\n",
            "      B-MISC       0.00      0.00      0.00         9\n",
            "      I-MISC       0.72      0.63      0.67       909\n",
            "       B-PER       0.00      0.00      0.00         0\n",
            "       I-PER       0.92      0.82      0.87      2769\n",
            "       B-ORG       0.00      0.00      0.00         5\n",
            "       I-ORG       0.82      0.75      0.78      2491\n",
            "       B-LOC       0.00      0.00      0.00         6\n",
            "       I-LOC       0.83      0.74      0.79      1916\n",
            "\n",
            "   micro avg       0.95      0.95      0.95     46417\n",
            "   macro avg       0.47      0.44      0.45     46417\n",
            "weighted avg       0.95      0.95      0.95     46417\n",
            "\n"
          ],
          "name": "stdout"
        },
        {
          "output_type": "stream",
          "text": [
            "\n",
            "/usr/local/lib/python3.6/dist-packages/sklearn/metrics/_classification.py:1272: UndefinedMetricWarning: Precision and F-score are ill-defined and being set to 0.0 in labels with no predicted samples. Use `zero_division` parameter to control this behavior.\n",
            "  _warn_prf(average, modifier, msg_start, len(result))\n",
            "/usr/local/lib/python3.6/dist-packages/sklearn/metrics/_classification.py:1272: UndefinedMetricWarning: Recall and F-score are ill-defined and being set to 0.0 in labels with no true samples. Use `zero_division` parameter to control this behavior.\n",
            "  _warn_prf(average, modifier, msg_start, len(result))\n",
            "/usr/local/lib/python3.6/dist-packages/sklearn/metrics/_classification.py:1515: UndefinedMetricWarning: F-score is ill-defined and being set to 0.0 in labels with no true nor predicted samples. Use `zero_division` parameter to control this behavior.\n",
            "  average, \"true nor predicted\", 'F-score is', len(true_sum)\n"
          ],
          "name": "stderr"
        }
      ]
    },
    {
      "cell_type": "markdown",
      "metadata": {
        "id": "tCv818pRBJWD",
        "colab_type": "text"
      },
      "source": [
        "## On ConLL-2003 pre-processed by XLNet"
      ]
    },
    {
      "cell_type": "code",
      "metadata": {
        "colab_type": "code",
        "id": "NWDi0PeSJeJI",
        "outputId": "3c32fba2-1525-41dd-a23b-20a94ebd9b7b",
        "colab": {
          "base_uri": "https://localhost:8080/",
          "height": 496
        }
      },
      "source": [
        "fc = nn.Sequential(\n",
        "    nn.Linear(1024, 9),\n",
        "    nn.Sigmoid()\n",
        ")\n",
        "errs, res = pipeline(\"/CONLL2003_XLNET\", \"/representation.train.npy\", \"/true_labels.train.npy\",\n",
        "                     \"/representation.testb.npy\", \"/true_labels.testb.npy\", label_map[\"CONLL2003\"], fc)\n",
        "errs_training[\"XLNet + Logistic on ConLL2003\"] = errs\n",
        "print(res)"
      ],
      "execution_count": 128,
      "outputs": [
        {
          "output_type": "stream",
          "text": [
            "Training: 100%|██████████| 1500/1500 [00:25<00:00, 58.13it/s]"
          ],
          "name": "stderr"
        },
        {
          "output_type": "stream",
          "text": [
            "\n",
            "\n",
            "Time computing: 0 s\n",
            "F2 score for class PERSON is:  [0.         0.32647358]\n",
            "              precision    recall  f1-score   support\n",
            "\n",
            "           O       0.85      1.00      0.92     38288\n",
            "      B-MISC       0.00      0.00      0.00         9\n",
            "      I-MISC       0.00      0.00      0.00       909\n",
            "       B-PER       0.00      0.00      0.00         0\n",
            "       I-PER       0.99      0.28      0.44      2758\n",
            "       B-ORG       0.00      0.00      0.00         5\n",
            "       I-ORG       0.87      0.07      0.13      2491\n",
            "       B-LOC       0.00      0.00      0.00         6\n",
            "       I-LOC       0.93      0.15      0.26      1911\n",
            "\n",
            "   micro avg       0.85      0.85      0.85     46377\n",
            "   macro avg       0.40      0.17      0.19     46377\n",
            "weighted avg       0.85      0.85      0.80     46377\n",
            "\n"
          ],
          "name": "stdout"
        },
        {
          "output_type": "stream",
          "text": [
            "\n",
            "/usr/local/lib/python3.6/dist-packages/sklearn/metrics/_classification.py:1272: UndefinedMetricWarning: Precision and F-score are ill-defined and being set to 0.0 in labels with no predicted samples. Use `zero_division` parameter to control this behavior.\n",
            "  _warn_prf(average, modifier, msg_start, len(result))\n",
            "/usr/local/lib/python3.6/dist-packages/sklearn/metrics/_classification.py:1272: UndefinedMetricWarning: Recall and F-score are ill-defined and being set to 0.0 in labels with no true samples. Use `zero_division` parameter to control this behavior.\n",
            "  _warn_prf(average, modifier, msg_start, len(result))\n",
            "/usr/local/lib/python3.6/dist-packages/sklearn/metrics/_classification.py:1515: UndefinedMetricWarning: F-score is ill-defined and being set to 0.0 in labels with no true nor predicted samples. Use `zero_division` parameter to control this behavior.\n",
            "  average, \"true nor predicted\", 'F-score is', len(true_sum)\n"
          ],
          "name": "stderr"
        }
      ]
    },
    {
      "cell_type": "markdown",
      "metadata": {
        "id": "akOQs2EyJhHy",
        "colab_type": "text"
      },
      "source": [
        "## On WNUT17 preprocessed by BERT"
      ]
    },
    {
      "cell_type": "code",
      "metadata": {
        "id": "JtFHxwN9Jny7",
        "colab_type": "code",
        "outputId": "fc045699-3b41-4e74-d43f-358dc76ee319",
        "colab": {
          "base_uri": "https://localhost:8080/",
          "height": 496
        }
      },
      "source": [
        "fc = nn.Sequential(\n",
        "    nn.Linear(1024, len(label_map[\"WNUT17\"])),\n",
        "    nn.Sigmoid()\n",
        ")\n",
        "errs, res = pipeline(\"/WNUT17_BERT\", \"/representation.train.npy\", \"/true_labels.train.npy\",\n",
        "                     \"/representation.test.npy\", \"/true_labels.test.npy\", label_map[\"WNUT17\"], fc)\n",
        "errs_training[\"Bert + Logistic on WNUT17\"] = errs\n",
        "print(res)"
      ],
      "execution_count": 119,
      "outputs": [
        {
          "output_type": "stream",
          "text": [
            "Training: 100%|██████████| 1500/1500 [00:07<00:00, 191.09it/s]"
          ],
          "name": "stderr"
        },
        {
          "output_type": "stream",
          "text": [
            "\n",
            "\n",
            "Time computing: 0 s\n",
            "F2 score for class PERSON is:  [0.09506833 0.0811359 ]\n",
            "                 precision    recall  f1-score   support\n",
            "\n",
            "              O       0.94      1.00      0.97     21904\n",
            "     B-location       0.80      0.14      0.24       114\n",
            "     I-location       0.00      0.00      0.00        33\n",
            "       B-person       0.82      0.08      0.14       411\n",
            "       I-person       0.89      0.07      0.12       121\n",
            "        B-group       0.00      0.00      0.00       154\n",
            "        I-group       0.00      0.00      0.00        59\n",
            "  B-corporation       0.00      0.00      0.00        86\n",
            "  I-corporation       0.00      0.00      0.00        31\n",
            "      B-product       0.00      0.00      0.00        93\n",
            "      I-product       0.00      0.00      0.00        55\n",
            "B-creative-work       0.00      0.00      0.00       131\n",
            "I-creative-work       0.00      0.00      0.00       172\n",
            "\n",
            "       accuracy                           0.94     23364\n",
            "      macro avg       0.27      0.10      0.11     23364\n",
            "   weighted avg       0.90      0.94      0.91     23364\n",
            "\n"
          ],
          "name": "stdout"
        },
        {
          "output_type": "stream",
          "text": [
            "\n",
            "/usr/local/lib/python3.6/dist-packages/sklearn/metrics/_classification.py:1272: UndefinedMetricWarning: Precision and F-score are ill-defined and being set to 0.0 in labels with no predicted samples. Use `zero_division` parameter to control this behavior.\n",
            "  _warn_prf(average, modifier, msg_start, len(result))\n"
          ],
          "name": "stderr"
        }
      ]
    },
    {
      "cell_type": "markdown",
      "metadata": {
        "id": "7CYsV8CiDweB",
        "colab_type": "text"
      },
      "source": [
        "## On WNUT17 preprocessed by XLnet"
      ]
    },
    {
      "cell_type": "code",
      "metadata": {
        "id": "RNxDA1RPDnJb",
        "colab_type": "code",
        "colab": {
          "base_uri": "https://localhost:8080/",
          "height": 496
        },
        "outputId": "c7016810-3d10-4b17-d1a7-99dc219a9b93"
      },
      "source": [
        "fc = nn.Sequential(\n",
        "    nn.Linear(1024, len(label_map[\"WNUT17\"])),\n",
        "    nn.Sigmoid()\n",
        ")\n",
        "errs, res = pipeline(\"/WNUT17_XLNET\", \"/representation.train.npy\", \"/true_labels.train.npy\",\n",
        "                     \"/representation.test.npy\", \"/true_labels.test.npy\", label_map[\"WNUT17\"], fc)\n",
        "errs_training[\"XLnet + Logistic on WNUT17\"] = errs\n",
        "print(res)"
      ],
      "execution_count": 120,
      "outputs": [
        {
          "output_type": "stream",
          "text": [
            "Training: 100%|██████████| 1500/1500 [00:07<00:00, 190.73it/s]"
          ],
          "name": "stderr"
        },
        {
          "output_type": "stream",
          "text": [
            "\n",
            "\n",
            "Time computing: 0 s\n",
            "F2 score for class PERSON is:  [0.03013864 0.        ]\n",
            "                 precision    recall  f1-score   support\n",
            "\n",
            "              O       0.94      1.00      0.97     21870\n",
            "     B-location       0.00      0.00      0.00       114\n",
            "     I-location       0.00      0.00      0.00        33\n",
            "       B-person       0.67      0.02      0.05       411\n",
            "       I-person       0.00      0.00      0.00       121\n",
            "        B-group       0.00      0.00      0.00       154\n",
            "        I-group       0.00      0.00      0.00        59\n",
            "  B-corporation       0.00      0.00      0.00        86\n",
            "  I-corporation       0.00      0.00      0.00        31\n",
            "      B-product       0.00      0.00      0.00        93\n",
            "      I-product       0.00      0.00      0.00        55\n",
            "B-creative-work       0.00      0.00      0.00       131\n",
            "I-creative-work       0.00      0.00      0.00       172\n",
            "\n",
            "       accuracy                           0.94     23330\n",
            "      macro avg       0.12      0.08      0.08     23330\n",
            "   weighted avg       0.89      0.94      0.91     23330\n",
            "\n"
          ],
          "name": "stdout"
        },
        {
          "output_type": "stream",
          "text": [
            "\n",
            "/usr/local/lib/python3.6/dist-packages/sklearn/metrics/_classification.py:1272: UndefinedMetricWarning: Precision and F-score are ill-defined and being set to 0.0 in labels with no predicted samples. Use `zero_division` parameter to control this behavior.\n",
            "  _warn_prf(average, modifier, msg_start, len(result))\n"
          ],
          "name": "stderr"
        }
      ]
    },
    {
      "cell_type": "markdown",
      "metadata": {
        "id": "Wy5gcMSY27Wc",
        "colab_type": "text"
      },
      "source": [
        "# 3. A fully connected network (FC) with activations ReLu and LogSoftMax"
      ]
    },
    {
      "cell_type": "markdown",
      "metadata": {
        "colab_type": "text",
        "id": "w_FH8eob3Wsn"
      },
      "source": [
        "## On **ConLL-2003** pre-processed by BERT"
      ]
    },
    {
      "cell_type": "code",
      "metadata": {
        "id": "76TzOFntKtRi",
        "colab_type": "code",
        "outputId": "3cada897-8374-4ec5-c81f-edea6d8dfe1b",
        "colab": {
          "base_uri": "https://localhost:8080/",
          "height": 496
        }
      },
      "source": [
        "fc = nn.Sequential(\n",
        "    nn.Linear(1024, 128),\n",
        "    nn.ReLU(),\n",
        "    nn.Linear(128, 9),\n",
        "    nn.LogSoftmax(1)\n",
        ")\n",
        "errs, res = pipeline(\"/CONLL2003_BERT\", \"/representation.train.npy\", \"/true_labels.train.npy\",\n",
        "                     \"/representation.testb.npy\", \"/true_labels.testb.npy\", label_map[\"CONLL2003\"], fc)\n",
        "errs_training[\"Bert + FC on ConLL2003\"] = errs\n",
        "print(res)"
      ],
      "execution_count": 121,
      "outputs": [
        {
          "output_type": "stream",
          "text": [
            "Training: 100%|██████████| 1500/1500 [00:40<00:00, 37.09it/s]"
          ],
          "name": "stderr"
        },
        {
          "output_type": "stream",
          "text": [
            "\n",
            "\n",
            "Time computing: 0 s\n",
            "F2 score for class PERSON is:  [0.         0.89227421]\n",
            "              precision    recall  f1-score   support\n",
            "\n",
            "           O       0.99      0.99      0.99     38312\n",
            "      B-MISC       0.00      0.00      0.00         9\n",
            "      I-MISC       0.65      0.73      0.69       909\n",
            "       B-PER       0.00      0.00      0.00         0\n",
            "       I-PER       0.91      0.89      0.90      2769\n",
            "       B-ORG       0.00      0.00      0.00         5\n",
            "       I-ORG       0.85      0.85      0.85      2491\n",
            "       B-LOC       0.00      0.00      0.00         6\n",
            "       I-LOC       0.86      0.88      0.87      1916\n",
            "\n",
            "   micro avg       0.96      0.96      0.96     46417\n",
            "   macro avg       0.47      0.48      0.48     46417\n",
            "weighted avg       0.96      0.96      0.96     46417\n",
            "\n"
          ],
          "name": "stdout"
        },
        {
          "output_type": "stream",
          "text": [
            "\n",
            "/usr/local/lib/python3.6/dist-packages/sklearn/metrics/_classification.py:1272: UndefinedMetricWarning: Precision and F-score are ill-defined and being set to 0.0 in labels with no predicted samples. Use `zero_division` parameter to control this behavior.\n",
            "  _warn_prf(average, modifier, msg_start, len(result))\n",
            "/usr/local/lib/python3.6/dist-packages/sklearn/metrics/_classification.py:1272: UndefinedMetricWarning: Recall and F-score are ill-defined and being set to 0.0 in labels with no true samples. Use `zero_division` parameter to control this behavior.\n",
            "  _warn_prf(average, modifier, msg_start, len(result))\n",
            "/usr/local/lib/python3.6/dist-packages/sklearn/metrics/_classification.py:1515: UndefinedMetricWarning: F-score is ill-defined and being set to 0.0 in labels with no true nor predicted samples. Use `zero_division` parameter to control this behavior.\n",
            "  average, \"true nor predicted\", 'F-score is', len(true_sum)\n"
          ],
          "name": "stderr"
        }
      ]
    },
    {
      "cell_type": "markdown",
      "metadata": {
        "colab_type": "text",
        "id": "rnGN4KV53YuE"
      },
      "source": [
        "## On **ConLL-2003** pre-processed by XLNet"
      ]
    },
    {
      "cell_type": "code",
      "metadata": {
        "id": "9-xqjd_XK9CN",
        "colab_type": "code",
        "outputId": "98e90768-949a-4362-c4df-71d0536720f1",
        "colab": {
          "base_uri": "https://localhost:8080/",
          "height": 496
        }
      },
      "source": [
        "fc = nn.Sequential(\n",
        "    nn.Linear(1024, 128),\n",
        "    nn.ReLU(),\n",
        "    nn.Linear(128, 9),\n",
        "    nn.LogSoftmax(1)\n",
        ")\n",
        "errs, res = pipeline(\"/CONLL2003_XLNET\", \"/representation.train.npy\", \"/true_labels.train.npy\",\n",
        "                     \"/representation.testb.npy\", \"/true_labels.testb.npy\", label_map[\"CONLL2003\"], fc)\n",
        "errs_training[\"XLNet + FC on ConLL2003\"] = errs\n",
        "print(res)"
      ],
      "execution_count": 122,
      "outputs": [
        {
          "output_type": "stream",
          "text": [
            "Training: 100%|██████████| 1500/1500 [00:40<00:00, 37.12it/s]"
          ],
          "name": "stderr"
        },
        {
          "output_type": "stream",
          "text": [
            "\n",
            "\n",
            "Time computing: 0 s\n",
            "F2 score for class PERSON is:  [0.         0.88478261]\n",
            "              precision    recall  f1-score   support\n",
            "\n",
            "           O       0.98      0.98      0.98     38288\n",
            "      B-MISC       0.14      0.11      0.12         9\n",
            "      I-MISC       0.54      0.60      0.57       909\n",
            "       B-PER       0.00      0.00      0.00         0\n",
            "       I-PER       0.88      0.89      0.88      2758\n",
            "       B-ORG       0.00      0.00      0.00         5\n",
            "       I-ORG       0.69      0.69      0.69      2491\n",
            "       B-LOC       0.00      0.00      0.00         6\n",
            "       I-LOC       0.77      0.77      0.77      1911\n",
            "\n",
            "   micro avg       0.94      0.94      0.94     46377\n",
            "   macro avg       0.44      0.45      0.45     46377\n",
            "weighted avg       0.94      0.94      0.94     46377\n",
            "\n"
          ],
          "name": "stdout"
        },
        {
          "output_type": "stream",
          "text": [
            "\n",
            "/usr/local/lib/python3.6/dist-packages/sklearn/metrics/_classification.py:1272: UndefinedMetricWarning: Precision and F-score are ill-defined and being set to 0.0 in labels with no predicted samples. Use `zero_division` parameter to control this behavior.\n",
            "  _warn_prf(average, modifier, msg_start, len(result))\n",
            "/usr/local/lib/python3.6/dist-packages/sklearn/metrics/_classification.py:1272: UndefinedMetricWarning: Recall and F-score are ill-defined and being set to 0.0 in labels with no true samples. Use `zero_division` parameter to control this behavior.\n",
            "  _warn_prf(average, modifier, msg_start, len(result))\n",
            "/usr/local/lib/python3.6/dist-packages/sklearn/metrics/_classification.py:1515: UndefinedMetricWarning: F-score is ill-defined and being set to 0.0 in labels with no true nor predicted samples. Use `zero_division` parameter to control this behavior.\n",
            "  average, \"true nor predicted\", 'F-score is', len(true_sum)\n"
          ],
          "name": "stderr"
        }
      ]
    },
    {
      "cell_type": "markdown",
      "metadata": {
        "colab_type": "text",
        "id": "UVgZdjaR3aUL"
      },
      "source": [
        "## On **WNUT17** preprocessed by BERT"
      ]
    },
    {
      "cell_type": "code",
      "metadata": {
        "id": "vF-K0vkKM_IY",
        "colab_type": "code",
        "outputId": "0584176d-25f5-4385-8ffb-ab0c528995c8",
        "colab": {
          "base_uri": "https://localhost:8080/",
          "height": 442
        }
      },
      "source": [
        "fc = nn.Sequential(\n",
        "    nn.Linear(1024, 128),\n",
        "    nn.ReLU(),\n",
        "    nn.Linear(128, len(label_map[\"WNUT17\"])),\n",
        "    nn.LogSoftmax(1)\n",
        ")\n",
        "errs, res = pipeline(\"/WNUT17_BERT\", \"/representation.train.npy\", \"/true_labels.train.npy\",\n",
        "                     \"/representation.test.npy\", \"/true_labels.test.npy\", label_map[\"WNUT17\"], fc)\n",
        "errs_training[\"Bert + FC on WNUT17\"] = errs\n",
        "print(res)"
      ],
      "execution_count": 129,
      "outputs": [
        {
          "output_type": "stream",
          "text": [
            "Training: 100%|██████████| 1500/1500 [00:12<00:00, 120.98it/s]\n"
          ],
          "name": "stderr"
        },
        {
          "output_type": "stream",
          "text": [
            "\n",
            "\n",
            "Time computing: 0 s\n",
            "F2 score for class PERSON is:  [0.49535604 0.4665493 ]\n",
            "                 precision    recall  f1-score   support\n",
            "\n",
            "              O       0.96      0.98      0.97     21904\n",
            "     B-location       0.33      0.46      0.38       114\n",
            "     I-location       0.22      0.39      0.28        33\n",
            "       B-person       0.65      0.47      0.54       411\n",
            "       I-person       0.63      0.44      0.52       121\n",
            "        B-group       0.20      0.15      0.17       154\n",
            "        I-group       0.17      0.07      0.10        59\n",
            "  B-corporation       0.15      0.13      0.14        86\n",
            "  I-corporation       0.20      0.03      0.06        31\n",
            "      B-product       0.14      0.09      0.11        93\n",
            "      I-product       0.10      0.11      0.10        55\n",
            "B-creative-work       0.34      0.14      0.20       131\n",
            "I-creative-work       0.22      0.12      0.15       172\n",
            "\n",
            "       accuracy                           0.94     23364\n",
            "      macro avg       0.33      0.27      0.29     23364\n",
            "   weighted avg       0.93      0.94      0.93     23364\n",
            "\n"
          ],
          "name": "stdout"
        }
      ]
    },
    {
      "cell_type": "markdown",
      "metadata": {
        "id": "SaPQd-4vb6A5",
        "colab_type": "text"
      },
      "source": [
        "## On **WNUT17** preprocessed by XLNet"
      ]
    },
    {
      "cell_type": "code",
      "metadata": {
        "id": "Wrbg8hSbcAtw",
        "colab_type": "code",
        "outputId": "cbdc3852-b277-428e-c7d0-4eb13509ed64",
        "colab": {
          "base_uri": "https://localhost:8080/",
          "height": 442
        }
      },
      "source": [
        "fc = nn.Sequential(\n",
        "    nn.Linear(1024, 128),\n",
        "    nn.ReLU(),\n",
        "    nn.Linear(128, len(label_map[\"WNUT17\"])),\n",
        "    nn.LogSoftmax(1)\n",
        ")\n",
        "errs, res = pipeline(\"/WNUT17_XLNET\", \"/representation.train.npy\", \"/true_labels.train.npy\",\n",
        "                     \"/representation.test.npy\", \"/true_labels.test.npy\", label_map[\"WNUT17\"], fc)\n",
        "errs_training[\"XLNet + FC on WNUT17\"] = errs\n",
        "print(res)"
      ],
      "execution_count": 130,
      "outputs": [
        {
          "output_type": "stream",
          "text": [
            "Training: 100%|██████████| 1500/1500 [00:12<00:00, 121.06it/s]\n"
          ],
          "name": "stderr"
        },
        {
          "output_type": "stream",
          "text": [
            "\n",
            "\n",
            "Time computing: 0 s\n",
            "F2 score for class PERSON is:  [0.37336815 0.37132988]\n",
            "                 precision    recall  f1-score   support\n",
            "\n",
            "              O       0.96      0.98      0.97     21870\n",
            "     B-location       0.24      0.24      0.24       114\n",
            "     I-location       0.19      0.27      0.22        33\n",
            "       B-person       0.53      0.35      0.42       411\n",
            "       I-person       0.45      0.36      0.40       121\n",
            "        B-group       0.14      0.12      0.13       154\n",
            "        I-group       0.15      0.12      0.13        59\n",
            "  B-corporation       0.10      0.07      0.08        86\n",
            "  I-corporation       0.00      0.00      0.00        31\n",
            "      B-product       0.16      0.09      0.11        93\n",
            "      I-product       0.14      0.09      0.11        55\n",
            "B-creative-work       0.23      0.05      0.09       131\n",
            "I-creative-work       0.22      0.09      0.12       172\n",
            "\n",
            "       accuracy                           0.93     23330\n",
            "      macro avg       0.27      0.22      0.23     23330\n",
            "   weighted avg       0.92      0.93      0.92     23330\n",
            "\n"
          ],
          "name": "stdout"
        }
      ]
    },
    {
      "cell_type": "markdown",
      "metadata": {
        "id": "vj9av9mpTeFB",
        "colab_type": "text"
      },
      "source": [
        "# 4. Graphs"
      ]
    },
    {
      "cell_type": "code",
      "metadata": {
        "id": "LjJxyCFZNKIR",
        "colab_type": "code",
        "outputId": "56fc8634-c9dc-4b7c-baa2-f1db5556feb5",
        "colab": {
          "base_uri": "https://localhost:8080/",
          "height": 265
        }
      },
      "source": [
        "import matplotlib.pyplot as plt\n",
        "\n",
        "\n",
        "title = [\"Bert + Logistic on ConLL2003\", \"XLNet + Logistic on ConLL2003\",\n",
        "         \"Bert + FC on ConLL2003\", \"XLNet + FC on ConLL2003\"]\n",
        "for i in range(len(title)):\n",
        "    plt.plot(errs_training[title[i]], label=title[i])\n",
        "\n",
        "plt.legend()\n",
        "plt.show()"
      ],
      "execution_count": 131,
      "outputs": [
        {
          "output_type": "display_data",
          "data": {
            "image/png": "[encoded data removed]",
            "text/plain": [
              "<Figure size 432x288 with 1 Axes>"
            ]
          },
          "metadata": {
            "tags": [],
            "needs_background": "light"
          }
        }
      ]
    },
    {
      "cell_type": "code",
      "metadata": {
        "id": "NL5cCI9sTGiR",
        "colab_type": "code",
        "outputId": "f4f94823-4319-4849-889f-f1c89def06e5",
        "colab": {
          "base_uri": "https://localhost:8080/",
          "height": 265
        }
      },
      "source": [
        "title = [\"Bert + FC on WNUT17\", \"XLNet + FC on WNUT17\", \"Bert + FC on ConLL2003\", \"XLNet + FC on ConLL2003\"]\n",
        "for i in range(len(title)):\n",
        "    plt.plot(errs_training[title[i]], label=title[i])\n",
        "\n",
        "plt.legend()\n",
        "plt.show()"
      ],
      "execution_count": 132,
      "outputs": [
        {
          "output_type": "display_data",
          "data": {
            "image/png": "[encoded data removed]",
            "text/plain": [
              "<Figure size 432x288 with 1 Axes>"
            ]
          },
          "metadata": {
            "tags": [],
            "needs_background": "light"
          }
        }
      ]
    },
    {
      "cell_type": "code",
      "metadata": {
        "id": "1G2GavFqHLVy",
        "colab_type": "code",
        "colab": {
          "base_uri": "https://localhost:8080/",
          "height": 265
        },
        "outputId": "2f5255fd-2267-4f95-f7af-bbf5b74fb0d0"
      },
      "source": [
        "title = [\"Bert + FC on WNUT17\", \"XLNet + FC on WNUT17\"]\n",
        "for i in range(len(title)):\n",
        "    plt.plot(errs_training[title[i]], label=title[i])\n",
        "\n",
        "plt.legend()\n",
        "plt.show()"
      ],
      "execution_count": 133,
      "outputs": [
        {
          "output_type": "display_data",
          "data": {
            "image/png": "[encoded data removed]",
            "text/plain": [
              "<Figure size 432x288 with 1 Axes>"
            ]
          },
          "metadata": {
            "tags": [],
            "needs_background": "light"
          }
        }
      ]
    }
  ]
}