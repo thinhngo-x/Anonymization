{
  "nbformat": 4,
  "nbformat_minor": 0,
  "metadata": {
    "colab": {
      "name": "NeuralNetwork.ipynb",
      "provenance": [],
      "authorship_tag": "ABX9TyNKlETTrmK4YBEPNy7Tn1UY",
      "include_colab_link": true
    },
    "kernelspec": {
      "name": "python3",
      "display_name": "Python 3"
    },
    "accelerator": "GPU"
  },
  "cells": [
    {
      "cell_type": "markdown",
      "metadata": {
        "id": "view-in-github",
        "colab_type": "text"
      },
      "source": [
        "<a href=\"https://colab.research.google.com/github/thinhngo-x/Anonymization/blob/master/notebook/NeuralNetwork.ipynb\" target=\"_parent\"><img src=\"https://colab.research.google.com/assets/colab-badge.svg\" alt=\"Open In Colab\"/></a>"
      ]
    },
    {
      "cell_type": "code",
      "metadata": {
        "id": "w6Kx1x4sIyXj",
        "colab_type": "code",
        "outputId": "7fb665d8-fb6f-4022-9884-d17c0c6b4fc6",
        "colab": {
          "base_uri": "https://localhost:8080/",
          "height": 122
        }
      },
      "source": [
        "from google.colab import drive\n",
        "drive.mount(\"/content/drive\")\n",
        "root = \"/content/drive/My Drive/Anonymization\""
      ],
      "execution_count": 1,
      "outputs": [
        {
          "output_type": "stream",
          "text": [
            "Go to this URL in a browser: https://accounts.google.com/o/oauth2/auth?client_id=947318989803-6bn6qk8qdgf4n4g3pfee6491hc0brc4i.apps.googleusercontent.com&redirect_uri=urn%3aietf%3awg%3aoauth%3a2.0%3aoob&response_type=code&scope=email%20https%3a%2f%2fwww.googleapis.com%2fauth%2fdocs.test%20https%3a%2f%2fwww.googleapis.com%2fauth%2fdrive%20https%3a%2f%2fwww.googleapis.com%2fauth%2fdrive.photos.readonly%20https%3a%2f%2fwww.googleapis.com%2fauth%2fpeopleapi.readonly\n",
            "\n",
            "Enter your authorization code:\n",
            "··········\n",
            "Mounted at /content/drive\n"
          ],
          "name": "stdout"
        }
      ]
    },
    {
      "cell_type": "code",
      "metadata": {
        "id": "xJfQBlKLFn7h",
        "colab_type": "code",
        "colab": {}
      },
      "source": [
        "import numpy as np\n",
        "import torch\n",
        "from torch import nn"
      ],
      "execution_count": 0,
      "outputs": []
    },
    {
      "cell_type": "code",
      "metadata": {
        "colab_type": "code",
        "outputId": "d73217a6-e79b-4834-8b23-4bfc99788ab9",
        "id": "kzS8Hm6a3Wsp",
        "colab": {
          "base_uri": "https://localhost:8080/",
          "height": 51
        }
      },
      "source": [
        "dataset = \"/CONLL2003_BERT\"\n",
        "\n",
        "train = np.load(root+dataset+\"/representation.train.npy\")\n",
        "train_labels = np.load(root+dataset+\"/true_labels.train.npy\")\n",
        "# train_labels = np.logical_or(train_labels == 3, train_labels == 4)\n",
        "\n",
        "test = np.load(root+dataset+\"/representation.testb.npy\")\n",
        "test_labels = np.load(root+dataset+\"/true_labels.testb.npy\")\n",
        "# test_labels = np.logical_or(test_labels == 3, test_labels == 4)\n",
        "\n",
        "# random_projection = GaussianRandomProjection(n_components=10)\n",
        "# train_projected = random_projection.fit_transform(train)\n",
        "# test_projected = random_projection.transform(test)\n",
        "\n",
        "print(train.shape)\n",
        "# print(train_projected.shape)\n",
        "\n",
        "print(test.shape)\n",
        "# print(test_projected.shape)"
      ],
      "execution_count": 38,
      "outputs": [
        {
          "output_type": "stream",
          "text": [
            "(203593, 1024)\n",
            "(46417, 1024)\n"
          ],
          "name": "stdout"
        }
      ]
    },
    {
      "cell_type": "code",
      "metadata": {
        "id": "ZzBh5tUlFbCq",
        "colab_type": "code",
        "colab": {}
      },
      "source": [
        "train = torch.Tensor(train)\n",
        "train_labels = torch.Tensor(train_labels).type(torch.LongTensor)\n",
        "test = torch.Tensor(test)\n",
        "test_labels = torch.Tensor(test_labels).type(torch.LongTensor)"
      ],
      "execution_count": 0,
      "outputs": []
    },
    {
      "cell_type": "code",
      "metadata": {
        "id": "f-XADqKrGUD4",
        "colab_type": "code",
        "colab": {}
      },
      "source": [
        "fc = nn.Sequential(\n",
        "    nn.Linear(1024, 128),\n",
        "    nn.ReLU(),\n",
        "    nn.Linear(128, 9),\n",
        "    nn.LogSoftmax(1)\n",
        ")\n",
        "optim = torch.optim.Adam(fc.parameters())\n",
        "criterion = nn.CrossEntropyLoss()\n",
        "if torch.cuda.is_available():\n",
        "    fc = fc.cuda()"
      ],
      "execution_count": 0,
      "outputs": []
    },
    {
      "cell_type": "code",
      "metadata": {
        "id": "w97csD4XGmMU",
        "colab_type": "code",
        "colab": {
          "base_uri": "https://localhost:8080/",
          "height": 221
        },
        "outputId": "815a4f94-8fbd-4662-d803-f378af8a56f5"
      },
      "source": [
        "epocs = 600\n",
        "for i in range (epocs):\n",
        "    optim.zero_grad()\n",
        "    preds = fc(train.cuda())\n",
        "    loss = criterion(preds, train_labels.cuda())\n",
        "    if i % 50 == 0:\n",
        "        print(\"[%d/%d]: Loss = %f\" %(i, epocs, loss.item()))\n",
        "    loss.backward()\n",
        "    optim.step()"
      ],
      "execution_count": 41,
      "outputs": [
        {
          "output_type": "stream",
          "text": [
            "[0/500]: Loss = 2.236522\n",
            "[50/500]: Loss = 0.219776\n",
            "[100/500]: Loss = 0.140024\n",
            "[150/500]: Loss = 0.111548\n",
            "[200/500]: Loss = 0.095441\n",
            "[250/500]: Loss = 0.084274\n",
            "[300/500]: Loss = 0.075831\n",
            "[350/500]: Loss = 0.068997\n",
            "[400/500]: Loss = 0.063102\n",
            "[450/500]: Loss = 0.058048\n",
            "[500/500]: Loss = 0.053595\n",
            "[550/500]: Loss = 0.049642\n"
          ],
          "name": "stdout"
        }
      ]
    },
    {
      "cell_type": "code",
      "metadata": {
        "id": "udsitpjgHpsI",
        "colab_type": "code",
        "colab": {
          "base_uri": "https://localhost:8080/",
          "height": 34
        },
        "outputId": "588b9e28-ea09-453f-a57d-d3bb593fa2c7"
      },
      "source": [
        "with torch.no_grad():\n",
        "    preds = fc(test.cuda()).detach().cpu().numpy()\n",
        "preds = np.argmax(preds, 1)\n",
        "preds.shape"
      ],
      "execution_count": 42,
      "outputs": [
        {
          "output_type": "execute_result",
          "data": {
            "text/plain": [
              "(46417,)"
            ]
          },
          "metadata": {
            "tags": []
          },
          "execution_count": 42
        }
      ]
    },
    {
      "cell_type": "code",
      "metadata": {
        "id": "OdXqR3dDJAfk",
        "colab_type": "code",
        "colab": {
          "base_uri": "https://localhost:8080/",
          "height": 377
        },
        "outputId": "cee02e3a-af51-432b-e02c-3d3770da6a3b"
      },
      "source": [
        "from sklearn.metrics import classification_report\n",
        "\n",
        "print(classification_report(test_labels, preds,\n",
        "            labels = range(9),\n",
        "            target_names=[\"O\", \"B-MISC\", \"I-MISC\", \"B-PER\", \"I-PER\", \"B-ORG\", \"I-ORG\", \"B-LOC\", \"I-LOC\"]))"
      ],
      "execution_count": 43,
      "outputs": [
        {
          "output_type": "stream",
          "text": [
            "              precision    recall  f1-score   support\n",
            "\n",
            "           O       0.99      0.99      0.99     38312\n",
            "      B-MISC       0.00      0.00      0.00         9\n",
            "      I-MISC       0.68      0.72      0.70       909\n",
            "       B-PER       0.00      0.00      0.00         0\n",
            "       I-PER       0.93      0.90      0.91      2769\n",
            "       B-ORG       0.00      0.00      0.00         5\n",
            "       I-ORG       0.85      0.86      0.86      2491\n",
            "       B-LOC       0.00      0.00      0.00         6\n",
            "       I-LOC       0.88      0.87      0.87      1916\n",
            "\n",
            "   micro avg       0.97      0.97      0.97     46417\n",
            "   macro avg       0.48      0.48      0.48     46417\n",
            "weighted avg       0.97      0.97      0.97     46417\n",
            "\n"
          ],
          "name": "stdout"
        },
        {
          "output_type": "stream",
          "text": [
            "/usr/local/lib/python3.6/dist-packages/sklearn/metrics/_classification.py:1272: UndefinedMetricWarning: Precision and F-score are ill-defined and being set to 0.0 in labels with no predicted samples. Use `zero_division` parameter to control this behavior.\n",
            "  _warn_prf(average, modifier, msg_start, len(result))\n",
            "/usr/local/lib/python3.6/dist-packages/sklearn/metrics/_classification.py:1272: UndefinedMetricWarning: Recall and F-score are ill-defined and being set to 0.0 in labels with no true samples. Use `zero_division` parameter to control this behavior.\n",
            "  _warn_prf(average, modifier, msg_start, len(result))\n"
          ],
          "name": "stderr"
        }
      ]
    }
  ]
}