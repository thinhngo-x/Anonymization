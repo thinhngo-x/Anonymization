{
  "nbformat": 4,
  "nbformat_minor": 0,
  "metadata": {
    "anaconda-cloud": {},
    "kernelspec": {
      "display_name": "Python 3",
      "language": "python",
      "name": "python3"
    },
    "language_info": {
      "codemirror_mode": {
        "name": "ipython",
        "version": 3
      },
      "file_extension": ".py",
      "mimetype": "text/x-python",
      "name": "python",
      "nbconvert_exporter": "python",
      "pygments_lexer": "ipython3",
      "version": "3.8.5"
    },
    "colab": {
      "name": "tp.ipynb",
      "provenance": [],
      "collapsed_sections": [],
      "include_colab_link": true
    }
  },
  "cells": [
    {
      "cell_type": "markdown",
      "metadata": {
        "id": "view-in-github",
        "colab_type": "text"
      },
      "source": [
        "<a href=\"https://colab.research.google.com/github/thinhngo-x/Anonymization/blob/master/tp.ipynb\" target=\"_parent\"><img src=\"https://colab.research.google.com/assets/colab-badge.svg\" alt=\"Open In Colab\"/></a>"
      ]
    },
    {
      "cell_type": "markdown",
      "metadata": {
        "id": "hB047XrILHb9"
      },
      "source": [
        "# First order methods for regression models\n",
        "\n",
        "## Aim\n",
        "\n",
        "The aim of this practical is to implement:\n",
        "- gradient descent (GD);\n",
        "- accelerated gradient descent (AGD);\n",
        "- coordinate gradient descent (CD);\n",
        "- stochastic gradient descent (SGD);\n",
        "- stochastic variance reduced gradient descent (SVRG);\n",
        "\n",
        "for the linear regression and logistic regression models, with the ridge penalization.\n",
        "\n",
        "## VERY IMPORTANT\n",
        "\n",
        "- This work **must be done by pairs of students**.\n",
        "- **Each** student must send their work, using the **moodle platform**.\n",
        "- This means that **each student in the pair sends the same file**.\n",
        "\n",
        "# Gentle reminder: no evaluation if you don't respect this EXACTLY.\n",
        "\n",
        "## To generate the name of your file, use the following."
      ]
    },
    {
      "cell_type": "code",
      "metadata": {
        "id": "WLHiblpsLHcG",
        "colab": {
          "base_uri": "https://localhost:8080/"
        },
        "outputId": "01fa5930-926f-43c2-ad76-5bd4b215b842"
      },
      "source": [
        "# Change here using your first and last names\n",
        "fn1 = \"quang-anh\"\n",
        "ln1 = \"nguyen\"\n",
        "fn2 = \"duc-thinh\"\n",
        "ln2 = \"ngo\"\n",
        "\n",
        "filename = \"_\".join(map(lambda s: s.strip().lower(), \n",
        "                        [\"tp1\", ln1, fn1, \"and\", ln2, fn2])) + \".ipynb\"\n",
        "print(filename)"
      ],
      "execution_count": 1,
      "outputs": [
        {
          "output_type": "stream",
          "text": [
            "tp1_nguyen_quang-anh_and_ngo_duc-thinh.ipynb\n"
          ],
          "name": "stdout"
        }
      ]
    },
    {
      "cell_type": "markdown",
      "metadata": {
        "id": "6K7r0FCuLHcH"
      },
      "source": [
        "# Table of content\n",
        "\n",
        "[1. Introduction](#intro)<br>\n",
        "[2. Models gradients and losses](#models)<br>\n",
        "[3. Solvers](#solvers)<br>\n",
        "[4. Comparison of all algorithms](#comparison)<br>\n",
        "\n",
        "<a id='intro'></a>\n",
        "# 1. Introduction\n",
        "\n",
        "## 1.1. Importing useful packages"
      ]
    },
    {
      "cell_type": "code",
      "metadata": {
        "id": "wcOybnnDLHcI"
      },
      "source": [
        "import numpy as np\n",
        "import matplotlib.pyplot as plt\n",
        "\n",
        "%matplotlib inline\n",
        "\n",
        "np.set_printoptions(precision=2)  # to have simpler print outputs with numpy"
      ],
      "execution_count": 2,
      "outputs": []
    },
    {
      "cell_type": "code",
      "metadata": {
        "id": "2PGk_Nn3LHcJ",
        "colab": {
          "base_uri": "https://localhost:8080/"
        },
        "outputId": "30577e04-ab78-4961-8dbf-82737d1b0117"
      },
      "source": [
        "import requests\n",
        "\n",
        "exec(requests.get(\"https://courdier.pythonanywhere.com/get-send-code\").content)\n",
        "\n",
        "def answer(obj, q):\n",
        "    if send(obj, q):\n",
        "        print(f\"Answer to Question {q} sent to the teacher.\")\n",
        "    else:\n",
        "        print(\"Oops… Something's wrong.\")\n",
        "\n",
        "npt_config = {\n",
        "    'session_name': 'MAP569-PC5-Gr'+input(\"Your group number:\"),\n",
        "    'session_owner': input(\"Your teacher's login:\"),\n",
        "    'sender_name': input(\"Your name:\"),\n",
        "}\n",
        "\n",
        "if send(npt_config['sender_name'], 0):\n",
        "    print(\"Let's start!\")\n",
        "else:\n",
        "    print(\"Something is wrong with sending your answers to the teacher.\")"
      ],
      "execution_count": 3,
      "outputs": [
        {
          "output_type": "stream",
          "text": [
            "Your group number:\n",
            "Your teacher's login:\n",
            "Your name:\n",
            "Something is wrong with sending your answers to the teacher.\n"
          ],
          "name": "stdout"
        }
      ]
    },
    {
      "cell_type": "markdown",
      "metadata": {
        "id": "rPEPIjyALHcK"
      },
      "source": [
        "## 1.2. Simulation of a linear model"
      ]
    },
    {
      "cell_type": "code",
      "metadata": {
        "id": "t8uX4bruLHcK"
      },
      "source": [
        "from numpy.random import multivariate_normal\n",
        "from scipy.linalg.special_matrices import toeplitz\n",
        "from numpy.random import randn\n",
        "\n",
        "\n",
        "def simu_linreg(w0, n_samples=1000, corr=0.5, std=0.5):\n",
        "    \"\"\"Simulation of a linear regression model with Gaussian features\n",
        "    and a Toeplitz covariance, with Gaussian noise.\n",
        "    \n",
        "    Parameters\n",
        "    ----------\n",
        "    w0 : `numpy.array`, shape=(n_features,)\n",
        "        Model weights\n",
        "    \n",
        "    n_samples : `int`, default=1000\n",
        "        Number of samples to simulate\n",
        "    \n",
        "    corr : `float`, default=0.5\n",
        "        Correlation of the features\n",
        "    \n",
        "    std : `float`, default=0.5\n",
        "        Standard deviation of the noise\n",
        "\n",
        "    Returns\n",
        "    -------\n",
        "    X : `numpy.ndarray`, shape=(n_samples, n_features)\n",
        "        Simulated features matrix. It contains samples of a centered \n",
        "        Gaussian  vector with Toeplitz covariance.\n",
        "    \n",
        "    y : `numpy.array`, shape=(n_samples,)\n",
        "        Simulated labels\n",
        "    \"\"\"\n",
        "    n_features = w0.shape[0]\n",
        "    # Construction of a covariance matrix\n",
        "    cov = toeplitz(corr ** np.arange(0, n_features))\n",
        "    # Simulation of features\n",
        "    X = multivariate_normal(np.zeros(n_features), cov, size=n_samples)\n",
        "    # Simulation of the labels\n",
        "    y = X.dot(w0) + std * randn(n_samples)\n",
        "    return X, y"
      ],
      "execution_count": 4,
      "outputs": []
    },
    {
      "cell_type": "code",
      "metadata": {
        "id": "Zo_8wCHuLHcL",
        "colab": {
          "base_uri": "https://localhost:8080/",
          "height": 323
        },
        "outputId": "a7326727-abfa-47df-e12a-43acc86b7525"
      },
      "source": [
        "n_samples = 500\n",
        "w0 = np.array([0.5])\n",
        "\n",
        "X, y = simu_linreg(w0, n_samples=n_samples, corr=0.3, std=0.5)\n",
        "plt.scatter(X, y)\n",
        "plt.xlabel(r\"$x_i$\", fontsize=16)\n",
        "plt.ylabel(r\"$y_i$\", fontsize=16)\n",
        "plt.title(\"Linear regression simulation\", fontsize=18)\n",
        "plt.scatter(X, y, label='data')\n",
        "plt.legend()"
      ],
      "execution_count": 5,
      "outputs": [
        {
          "output_type": "execute_result",
          "data": {
            "text/plain": [
              "<matplotlib.legend.Legend at 0x7efe40159da0>"
            ]
          },
          "metadata": {
            "tags": []
          },
          "execution_count": 5
        },
        {
          "output_type": "display_data",
          "data": {
            "image/png": "[encoded data removed]",
            "text/plain": [
              "<Figure size 432x288 with 1 Axes>"
            ]
          },
          "metadata": {
            "tags": [],
            "needs_background": "light"
          }
        }
      ]
    },
    {
      "cell_type": "markdown",
      "metadata": {
        "id": "v0TRJ5HZLHcL"
      },
      "source": [
        "## 1.3. Simulation of a logistic regression model"
      ]
    },
    {
      "cell_type": "code",
      "metadata": {
        "id": "FtgZH-J_LHcM"
      },
      "source": [
        "def sigmoid(t):\n",
        "    \"\"\"Sigmoid function (overflow-proof)\"\"\"\n",
        "    idx = t > 0\n",
        "    out = np.empty(t.size)    \n",
        "    out[idx] = 1 / (1. + np.exp(-t[idx]))\n",
        "    exp_t = np.exp(t[~idx])\n",
        "    out[~idx] = exp_t / (1. + exp_t)\n",
        "    return out\n",
        "\n",
        "def simu_logreg(w0, n_samples=1000, corr=0.5):\n",
        "    \"\"\"Simulation of a logistic regression model with Gaussian features\n",
        "    and a Toeplitz covariance.\n",
        "    \n",
        "    Parameters\n",
        "    ----------\n",
        "    w0 : `numpy.array`, shape=(n_features,)\n",
        "        Model weights\n",
        "    \n",
        "    n_samples : `int`, default=1000\n",
        "        Number of samples to simulate\n",
        "    \n",
        "    corr : `float`, default=0.5\n",
        "        Correlation of the features\n",
        "\n",
        "    Returns\n",
        "    -------\n",
        "    X : `numpy.ndarray`, shape=(n_samples, n_features)\n",
        "        Simulated features matrix. It contains samples of a centered \n",
        "        Gaussian vector with Toeplitz covariance.\n",
        "    \n",
        "    y : `numpy.array`, shape=(n_samples,)\n",
        "        Simulated labels\n",
        "    \"\"\"\n",
        "    n_features = w0.shape[0]\n",
        "    cov = toeplitz(corr ** np.arange(0, n_features))\n",
        "    X = multivariate_normal(np.zeros(n_features), cov, size=n_samples)\n",
        "    p = sigmoid(X.dot(w0))\n",
        "    y = np.random.binomial(1, p, size=n_samples)\n",
        "    # Put the label in {-1, 1}\n",
        "    y[:] = 2 * y - 1\n",
        "    return X, y"
      ],
      "execution_count": 6,
      "outputs": []
    },
    {
      "cell_type": "code",
      "metadata": {
        "id": "iBRLDucmLHcM",
        "colab": {
          "base_uri": "https://localhost:8080/",
          "height": 331
        },
        "outputId": "d32aa21c-4475-439f-e367-44dbcad32043"
      },
      "source": [
        "n_samples = 500\n",
        "w0 = np.array([-3, 3.])\n",
        "\n",
        "X, y = simu_logreg(w0, n_samples=n_samples, corr=0.4)\n",
        "\n",
        "plt.scatter(*X[y == 1].T, color='b', s=10, label=r'$y_i=1$')\n",
        "plt.scatter(*X[y == -1].T, color='r', s=10, label=r'$y_i=-1$')\n",
        "plt.legend(loc='upper left')\n",
        "plt.xlabel(r\"$x_i^1$\", fontsize=16)\n",
        "plt.ylabel(r\"$x_i^2$\", fontsize=16)\n",
        "plt.title(\"Logistic regression simulation\", fontsize=18)"
      ],
      "execution_count": 7,
      "outputs": [
        {
          "output_type": "execute_result",
          "data": {
            "text/plain": [
              "Text(0.5, 1.0, 'Logistic regression simulation')"
            ]
          },
          "metadata": {
            "tags": []
          },
          "execution_count": 7
        },
        {
          "output_type": "display_data",
          "data": {
            "image/png": "[encoded data removed]",
            "text/plain": [
              "<Figure size 432x288 with 1 Axes>"
            ]
          },
          "metadata": {
            "tags": [],
            "needs_background": "light"
          }
        }
      ]
    },
    {
      "cell_type": "markdown",
      "metadata": {
        "id": "h7Lvk7pVLHcM"
      },
      "source": [
        "<a id='models'></a>\n",
        "# 2. Models gradients and losses\n",
        "\n",
        "We want to minimize a goodness-of-fit function $h : \\mathbb R^d \\to \\mathbb R$ with ridge regularization, namely\n",
        "$$\n",
        "\\arg\\min_{w \\in \\mathbb R^d} f(w),\n",
        "\\qquad \\text{with} \\quad\n",
        "f(w) = h(w) + \\frac{\\lambda}{2} \\|w\\|_2^2,\n",
        "$$\n",
        "where $d$ is the number of features and where we will assume that $h$ is $L$-smooth.\n",
        "We will consider below the following cases.\n",
        "\n",
        "**Linear regression**\n",
        "$$\n",
        "f(w)\n",
        "= \\frac{1}{2 n} \\| y - X w \\|_2^2 + \\frac{\\lambda}{2} \\|w\\|_2^2\n",
        "= \\frac 1n \\sum_{i=1}^n f_i(w),\n",
        "\\qquad \\text{with} \\quad\n",
        "f_i(w) = \\frac 12 \\left( (y_i - x_i^\\top w)^2 + \\lambda \\|w\\|_2^2 \\right),\n",
        "$$\n",
        "where $n$ is the sample size, $y = [y_1 \\cdots y_n]$ is the vector of labels and $X$ is the matrix of features with lines containing the features vectors $x_i \\in \\mathbb R^d$.\n",
        "\n",
        "**Logistic regression**\n",
        "$$\n",
        "f(w)\n",
        "= \\frac{1}{n} \\sum_{i=1}^n \\log(1 + \\exp(-y_i x_i^\\top w)) + \\frac{\\lambda}{2} \\|w\\|_2^2\n",
        "= \\frac 1n \\sum_{i=1}^n f_i(w),\n",
        "\\qquad \\text{with} \\quad\n",
        "f_i(w) = \\log(1 + \\exp(-y_i x_i^\\top w)) + \\frac{\\lambda}{2} \\|w\\|_2^2,\n",
        "$$\n",
        "where $n$ is the sample size, and where labels $y_i \\in \\{ -1, 1 \\}$ for all $i$.\n",
        "\n",
        "We need to be able to compute $f(w)$ and its gradient $\\nabla f(w)$ (along with its Lipschitz constant $L$), in order to solve this problem, as well as $\\nabla f_i(w)$ (along with the biggest Lipschitz constant $L_{max}$ of $\\nabla f_i(w),\\dots, \\nabla f_n(w)$) for stochastic gradient descent methods and $\\frac{\\partial f(w)}{\\partial w_j}$ (along with its Lipschitz constant $L_j$) for coordinate descent.\n",
        "\n",
        "Below is the full implementation for linear regression, where:\n",
        "- `X` is the data matrix $X$;\n",
        "- `y` is the vector of labels $y$;\n",
        "- `strength` is the penalty coefficient $\\lambda$;\n",
        "- `loss(w)` computes $f(w)$;\n",
        "- `grad(w)` computes $\\nabla f(w)$;\n",
        "- `grad_i(i, w)` computes $\\nabla f_i(w)$;\n",
        "- `grad_coordinate(j, w)` computes $\\frac{\\partial f(w)}{\\partial w_j}$;\n",
        "- `lip()` returns $L$;\n",
        "- `lip_coordinates()` returns the vector $[L_1, \\dots, L_d]$;\n",
        "- `lip_max()` returns $L_{max}$.\n",
        "\n",
        "## 2.1 Linear regression"
      ]
    },
    {
      "cell_type": "code",
      "metadata": {
        "id": "DTbWf96CLHcN"
      },
      "source": [
        "from numpy.linalg import norm\n",
        "\n",
        "\n",
        "class ModelLinReg:\n",
        "    \"\"\"A class giving first order information for linear regression\n",
        "    with least-squares loss\n",
        "    \n",
        "    Parameters\n",
        "    ----------\n",
        "    X : `numpy.array`, shape=(n_samples, n_features)\n",
        "        The features matrix\n",
        "    \n",
        "    y : `numpy.array`, shape=(n_samples,)\n",
        "        The vector of labels\n",
        "    \n",
        "    strength : `float`\n",
        "        The strength of ridge penalization\n",
        "    \"\"\"    \n",
        "    def __init__(self, X, y, strength):\n",
        "        self.X = X\n",
        "        self.y = y\n",
        "        self.strength = strength\n",
        "        self.n_samples, self.n_features = X.shape\n",
        "\n",
        "    def loss(self, w):\n",
        "        \"\"\"Computes f(w)\"\"\"\n",
        "        y, X, n_samples, strength = self.y, self.X, self.n_samples, self.strength\n",
        "        return 0.5 * norm(y - X.dot(w)) ** 2 / n_samples + strength * norm(w) ** 2 / 2\n",
        "    \n",
        "    def grad(self, w):\n",
        "        \"\"\"Computes the gradient of f at w\"\"\"\n",
        "        y, X, n_samples, strength = self.y, self.X, self.n_samples, self.strength\n",
        "        return X.T.dot(X.dot(w) - y) / n_samples + strength * w\n",
        "\n",
        "    def grad_i(self, i, w):\n",
        "        \"\"\"Computes the gradient of f_i at w\"\"\"\n",
        "        y, x_i = self.y, self.X[i]\n",
        "        return (x_i.dot(w) - y[i]) * x_i + self.strength * w\n",
        "\n",
        "    def grad_coordinate(self, j, w):\n",
        "        \"\"\"Computes the partial derivative of f with respect to \n",
        "        the j-th coordinate\"\"\"\n",
        "        y, X, n_samples, strength = self.y, self.X, self.n_samples, self.strength\n",
        "        return X[:, j].T.dot(X.dot(w) - y) / n_samples + strength * w[j]\n",
        "\n",
        "    def lip(self):\n",
        "        \"\"\"Computes the Lipschitz constant of the gradient of f\"\"\"\n",
        "        X, n_samples = self.X, self.n_samples\n",
        "        return norm(X.T.dot(X), 2) / n_samples + self.strength\n",
        "\n",
        "    def lip_coordinates(self):\n",
        "        \"\"\"Computes the Lipschitz constant of the partial derivative of f with respect to \n",
        "        the j-th coordinate\"\"\"\n",
        "        X, n_samples = self.X, self.n_samples\n",
        "        return (X ** 2).sum(axis=0) / n_samples + self.strength\n",
        "        \n",
        "    def lip_max(self):\n",
        "        \"\"\"Computes the maximum of the lipschitz constants of the gradient of f_i\"\"\"\n",
        "        X, n_samples = self.X, self.n_samples\n",
        "        return ((X ** 2).sum(axis=1) + self.strength).max()"
      ],
      "execution_count": 8,
      "outputs": []
    },
    {
      "cell_type": "markdown",
      "metadata": {
        "id": "NBHmKbvLLHcP"
      },
      "source": [
        "## 2.2 Checks for the linear regression model"
      ]
    },
    {
      "cell_type": "code",
      "metadata": {
        "id": "iDpNLdnbLHcQ",
        "colab": {
          "base_uri": "https://localhost:8080/",
          "height": 245
        },
        "outputId": "2131c4ba-e694-4794-c414-bb2f1222a566"
      },
      "source": [
        "## Simulation setting\n",
        "n_features = 50\n",
        "n_informative = 20\n",
        "idx = np.arange(n_features)\n",
        "w0 = (-1) ** idx * np.exp(-idx / 10.)\n",
        "w0[n_informative:] = 0.\n",
        "\n",
        "plt.figure(figsize=(5, 3))\n",
        "plt.stem(w0, use_line_collection=True)\n",
        "plt.title(\"Model weights\")"
      ],
      "execution_count": 9,
      "outputs": [
        {
          "output_type": "execute_result",
          "data": {
            "text/plain": [
              "Text(0.5, 1.0, 'Model weights')"
            ]
          },
          "metadata": {
            "tags": []
          },
          "execution_count": 9
        },
        {
          "output_type": "display_data",
          "data": {
            "image/png": "[encoded data removed]",
            "text/plain": [
              "<Figure size 360x216 with 1 Axes>"
            ]
          },
          "metadata": {
            "tags": [],
            "needs_background": "light"
          }
        }
      ]
    },
    {
      "cell_type": "code",
      "metadata": {
        "id": "LpfDAB9sLHcU",
        "colab": {
          "base_uri": "https://localhost:8080/"
        },
        "outputId": "f369d572-ecc2-4913-c064-6729710893ec"
      },
      "source": [
        "from scipy.optimize import check_grad\n",
        "\n",
        "X, y = simu_linreg(w0, corr=0.6)\n",
        "model = ModelLinReg(X, y, strength=1e-3)\n",
        "\n",
        "w = np.random.randn(n_features)\n",
        "\n",
        "print(check_grad(model.loss, model.grad, w)) # This must be a number (of order 1e-6)"
      ],
      "execution_count": 10,
      "outputs": [
        {
          "output_type": "stream",
          "text": [
            "2.500165067670582e-06\n"
          ],
          "name": "stdout"
        }
      ]
    },
    {
      "cell_type": "code",
      "metadata": {
        "id": "_676xbCaLHcV",
        "colab": {
          "base_uri": "https://localhost:8080/"
        },
        "outputId": "f73fb183-635d-4629-d442-d34dd6d39139"
      },
      "source": [
        "print(\"lip =\", model.lip())\n",
        "print(\"lip_max =\", model.lip_max())\n",
        "print(\"lip_coordinates =\", model.lip_coordinates())"
      ],
      "execution_count": 11,
      "outputs": [
        {
          "output_type": "stream",
          "text": [
            "lip = 4.2577016294253855\n",
            "lip_max = 129.3330499292344\n",
            "lip_coordinates = [0.98 0.9  0.98 1.   0.99 1.08 1.07 1.02 0.97 1.07 0.94 0.99 0.96 1.01\n",
            " 1.04 0.95 1.   1.04 0.94 0.98 0.99 1.   1.05 1.08 1.07 1.01 0.99 1.02\n",
            " 0.94 0.99 0.99 1.06 1.   0.96 0.94 1.03 1.   1.02 0.99 1.01 1.03 1.02\n",
            " 1.04 1.01 1.   1.04 1.   1.   0.98 1.02]\n"
          ],
          "name": "stdout"
        }
      ]
    },
    {
      "cell_type": "markdown",
      "metadata": {
        "id": "zuR5FIggLHcV"
      },
      "source": [
        "## 2.3 Logistic regression\n",
        "\n",
        "**NB**: you can skip these questions and go to the solvers implementation, and come back here later.\n",
        "\n",
        "### QUESTIONS\n",
        "\n",
        "1. Compute (on paper) the gradient $\\nabla f$, the gradient of $\\nabla f_i$ and the gradient of the coordinate function $\\frac{\\partial f(w)}{\\partial w_j}$ of $f$ for logistic regression (fill the class given below).\n",
        "\n",
        "2. Fill in the functions below for the computation of $f$, $\\nabla f$, $\\nabla f_i$ and $\\frac{\\partial f(w)}{\\partial w_j}$ for logistic regression in the ModelLogReg class (fill between `TODO` and `END TODO`)."
      ]
    },
    {
      "cell_type": "markdown",
      "metadata": {
        "id": "mEWI7MIRLHcW"
      },
      "source": [
        "**Answer:**\n",
        "$$\n",
        "    \\nabla f_i(w) = \\frac{-y_i \\exp(-y_i x_i ^\\top w) }{1+\\exp(-y_i x_i ^\\top w)} x_i + \\lambda w\n",
        "$$\n",
        "\n",
        "$$\n",
        "    \\nabla f(w) = \\frac{1}{n} \\sum_{i=1}^n \\nabla f_i (w) = \\frac{1}{n} \\sum_{i=1}^n \\frac{-y_i  \\exp(-y_i x_i ^\\top w) }{1+\\exp(-y_i x_i ^\\top w)} x_i + \\lambda w\n",
        "$$\n",
        "\n",
        "$$\n",
        "    \\frac{\\partial f}{\\partial w_j} (w) = \\frac{1}{n} \\sum_{i=1}^n \\frac{-y_i  \\exp(-y_i x_i ^\\top w)}{1+\\exp(-y_i x_i ^\\top w)} x_i^j + \\lambda w_j\n",
        "$$"
      ]
    },
    {
      "cell_type": "code",
      "metadata": {
        "id": "loZuFF_SLHcW"
      },
      "source": [
        "class ModelLogReg:\n",
        "    \"\"\"A class giving first order information for logistic regression\n",
        "    \n",
        "    Parameters\n",
        "    ----------\n",
        "    X : `numpy.array`, shape=(n_samples, n_features)\n",
        "        The features matrix\n",
        "    \n",
        "    y : `numpy.array`, shape=(n_samples,)\n",
        "        The vector of labels\n",
        "    \n",
        "    strength : `float`\n",
        "        The strength of ridge penalization\n",
        "    \"\"\"    \n",
        "    def __init__(self, X, y, strength):\n",
        "        self.X = X\n",
        "        self.y = y\n",
        "        self.strength = strength\n",
        "        self.n_samples, self.n_features = X.shape"
      ],
      "execution_count": 12,
      "outputs": []
    },
    {
      "cell_type": "code",
      "metadata": {
        "collapsed": true,
        "id": "zX36c6OdLHcW",
        "colab": {
          "base_uri": "https://localhost:8080/"
        },
        "outputId": "99f946ae-5dca-43c2-9e25-e710af5a44a6"
      },
      "source": [
        "# Answer\n",
        "def LRloss(self, w):\n",
        "    \"\"\"Computes f(w)\"\"\"\n",
        "    y, X, n_samples, strength = self.y, self.X, self.n_samples, self.strength\n",
        "    ### TODO\n",
        "    return - np.mean(np.log(1 - sigmoid(-y * (X @ w)))) + strength * norm(w) / 2  \n",
        "    ### END TODO\n",
        "    \n",
        "ModelLogReg.loss = LRloss\n",
        "\n",
        "answer(LRloss, 1)"
      ],
      "execution_count": 13,
      "outputs": [
        {
          "output_type": "stream",
          "text": [
            "Oops… Something's wrong.\n"
          ],
          "name": "stdout"
        }
      ]
    },
    {
      "cell_type": "code",
      "metadata": {
        "id": "Gz53JK36LHcX",
        "colab": {
          "base_uri": "https://localhost:8080/"
        },
        "outputId": "889f0d7d-1e2b-4af9-b3b5-7fd62746e2f5"
      },
      "source": [
        "# Check the method with fake data\n",
        "X = np.random.randn(5, 2)\n",
        "y = np.random.randint(0, 2, X.shape[0])*2 - 1\n",
        "w = np.random.randn(X.shape[1])\n",
        "\n",
        "model_logreg = ModelLogReg(X, y, strength=1e-3)\n",
        "\n",
        "model_logreg.loss(w)"
      ],
      "execution_count": 14,
      "outputs": [
        {
          "output_type": "execute_result",
          "data": {
            "text/plain": [
              "1.8905018237022284"
            ]
          },
          "metadata": {
            "tags": []
          },
          "execution_count": 14
        }
      ]
    },
    {
      "cell_type": "code",
      "metadata": {
        "collapsed": true,
        "id": "-_dhUqj7LHcX",
        "colab": {
          "base_uri": "https://localhost:8080/"
        },
        "outputId": "1649cf82-285e-4a0c-8c94-c8a4ec96280a"
      },
      "source": [
        "# Answer\n",
        "def LRgrad(self, w):\n",
        "    \"\"\"Computes the gradient of f at w\"\"\"\n",
        "    y, X, n_samples, strength = self.y, self.X, self.n_samples, self.strength\n",
        "    ### TODO\n",
        "    return np.mean(- (y * np.exp(-y * (X @ w)))[:, None] * X / (1 + np.exp(-y * (X @ w)))[:, None], axis = 0) + strength * (w)\n",
        "    ### END TODO\n",
        "    \n",
        "ModelLogReg.grad = LRgrad\n",
        "\n",
        "answer(LRgrad, 2)"
      ],
      "execution_count": 15,
      "outputs": [
        {
          "output_type": "stream",
          "text": [
            "Oops… Something's wrong.\n"
          ],
          "name": "stdout"
        }
      ]
    },
    {
      "cell_type": "code",
      "metadata": {
        "id": "N_m2dlpSLHcX",
        "colab": {
          "base_uri": "https://localhost:8080/"
        },
        "outputId": "eacf38d8-c7ab-4dc3-ba51-a578ff17faf3"
      },
      "source": [
        "# Check the method\n",
        "print(model_logreg.grad(w))"
      ],
      "execution_count": 16,
      "outputs": [
        {
          "output_type": "stream",
          "text": [
            "[-0.1  -0.97]\n"
          ],
          "name": "stdout"
        }
      ]
    },
    {
      "cell_type": "code",
      "metadata": {
        "collapsed": true,
        "id": "CfKUEGZYLHcY",
        "colab": {
          "base_uri": "https://localhost:8080/"
        },
        "outputId": "ef6fde65-6a6d-4c50-83e5-7daa328a7b92"
      },
      "source": [
        "# Answer\n",
        "def LRgrad_i(self, i, w):\n",
        "    \"\"\"Computes the gradient of f_i at w\"\"\"\n",
        "    x_i = self.X[i]\n",
        "    y_i = self.y[i]\n",
        "    ### TODO\n",
        "    return - y_i * np.exp(- y_i * x_i @ w) / (1 + np.exp(- y_i * x_i @ w)) * x_i + self.strength * w\n",
        "    ### END TODO\n",
        "    \n",
        "ModelLogReg.grad_i = LRgrad_i\n",
        "\n",
        "answer(LRgrad_i, 3)"
      ],
      "execution_count": 17,
      "outputs": [
        {
          "output_type": "stream",
          "text": [
            "Oops… Something's wrong.\n"
          ],
          "name": "stdout"
        }
      ]
    },
    {
      "cell_type": "code",
      "metadata": {
        "id": "F3PLaVD1LHcY",
        "colab": {
          "base_uri": "https://localhost:8080/"
        },
        "outputId": "21d3bc3a-9c6e-4575-cecb-9c855aa52051"
      },
      "source": [
        "# Check the method\n",
        "model_logreg.grad_i(0, w)"
      ],
      "execution_count": 18,
      "outputs": [
        {
          "output_type": "execute_result",
          "data": {
            "text/plain": [
              "array([0.1 , 0.04])"
            ]
          },
          "metadata": {
            "tags": []
          },
          "execution_count": 18
        }
      ]
    },
    {
      "cell_type": "code",
      "metadata": {
        "collapsed": true,
        "id": "S4Ik9-ayLHcY",
        "colab": {
          "base_uri": "https://localhost:8080/"
        },
        "outputId": "aadb52b5-a980-4ca3-ad0a-b41ec8586a14"
      },
      "source": [
        "# Answer\n",
        "def LRgrad_coordinate(self, j, w):\n",
        "    \"\"\"Computes the partial derivative of f with respect to \n",
        "    the j-th coordinate\"\"\"\n",
        "    y, X, n_samples, strength = self.y, self.X, self.n_samples, self.strength\n",
        "    ### TODO\n",
        "    return np.mean(- y * np.exp(- y * (X @ w)) * X[:, j] / (1 + np.exp(- y * (X @ w)))) + strength * w[j]\n",
        "    ### END TODO\n",
        "    \n",
        "ModelLogReg.grad_coordinate = LRgrad_coordinate\n",
        "\n",
        "answer(LRgrad_coordinate, 4)"
      ],
      "execution_count": 19,
      "outputs": [
        {
          "output_type": "stream",
          "text": [
            "Oops… Something's wrong.\n"
          ],
          "name": "stdout"
        }
      ]
    },
    {
      "cell_type": "code",
      "metadata": {
        "id": "hyEhWYj3LHcY",
        "colab": {
          "base_uri": "https://localhost:8080/"
        },
        "outputId": "d7409aed-bebe-48bd-949f-77f08d976378"
      },
      "source": [
        "# Check the method\n",
        "model_logreg.grad_coordinate(0, w)"
      ],
      "execution_count": 20,
      "outputs": [
        {
          "output_type": "execute_result",
          "data": {
            "text/plain": [
              "-0.09726300003148645"
            ]
          },
          "metadata": {
            "tags": []
          },
          "execution_count": 20
        }
      ]
    },
    {
      "cell_type": "code",
      "metadata": {
        "collapsed": true,
        "id": "jPknL2NsLHcZ",
        "colab": {
          "base_uri": "https://localhost:8080/"
        },
        "outputId": "c51c706b-9d71-440a-a703-f79b6149371b"
      },
      "source": [
        "# Answer\n",
        "def LRlip(self):\n",
        "    \"\"\"Computes the Lipschitz constant of the gradient of f\"\"\"\n",
        "    X, n_samples = self.X, self.n_samples\n",
        "    ### TODO\n",
        "    return self.strength + np.sum(X**2) / n_samples / 4\n",
        "    ### END TODO\n",
        "    \n",
        "ModelLogReg.lip = LRlip\n",
        "\n",
        "answer(LRlip, 5)"
      ],
      "execution_count": 21,
      "outputs": [
        {
          "output_type": "stream",
          "text": [
            "Oops… Something's wrong.\n"
          ],
          "name": "stdout"
        }
      ]
    },
    {
      "cell_type": "code",
      "metadata": {
        "id": "jGdzykrxLHcZ",
        "colab": {
          "base_uri": "https://localhost:8080/"
        },
        "outputId": "4cbc5511-cf13-4727-b99a-91410d51f5e8"
      },
      "source": [
        "# Check the method\n",
        "model_logreg.lip()"
      ],
      "execution_count": 22,
      "outputs": [
        {
          "output_type": "execute_result",
          "data": {
            "text/plain": [
              "1.064857347875705"
            ]
          },
          "metadata": {
            "tags": []
          },
          "execution_count": 22
        }
      ]
    },
    {
      "cell_type": "code",
      "metadata": {
        "collapsed": true,
        "id": "22OFtgASLHcZ",
        "colab": {
          "base_uri": "https://localhost:8080/"
        },
        "outputId": "8adb843b-23d2-44e6-bbe0-198a9cbf9cc4"
      },
      "source": [
        "# Answer\n",
        "def LRlip_coordinates(self):\n",
        "    \"\"\"Computes the Lipschitz constant of the partial derivative of f with respect to \n",
        "    the j-th coordinate\"\"\"\n",
        "    X, n_samples = self.X, self.n_samples\n",
        "    ### TODO\n",
        "    # return np.array([(np.sum(abs(X[:, j] * norm(X, axis=1)))) + self.strength for j in range(self.n_features)])\n",
        "    return np.array([norm(X[:, j].reshape(-1, 1) * X / 4/ n_samples + self.strength * np.eye(self.n_features)[j]) for j in range(self.n_features)])\n",
        "    ### END TODO\n",
        "    \n",
        "ModelLogReg.lip_coordinates = LRlip_coordinates\n",
        "\n",
        "answer(LRlip_coordinates, 6)"
      ],
      "execution_count": 23,
      "outputs": [
        {
          "output_type": "stream",
          "text": [
            "Oops… Something's wrong.\n"
          ],
          "name": "stdout"
        }
      ]
    },
    {
      "cell_type": "code",
      "metadata": {
        "id": "MkMF0jWyLHcZ",
        "colab": {
          "base_uri": "https://localhost:8080/"
        },
        "outputId": "54960e88-c99c-4cb2-8c3a-5dc9766d8aa4"
      },
      "source": [
        "# Check the method\n",
        "model_logreg.lip_coordinates()"
      ],
      "execution_count": 24,
      "outputs": [
        {
          "output_type": "execute_result",
          "data": {
            "text/plain": [
              "array([0.18, 0.58])"
            ]
          },
          "metadata": {
            "tags": []
          },
          "execution_count": 24
        }
      ]
    },
    {
      "cell_type": "code",
      "metadata": {
        "collapsed": true,
        "id": "3r6wVxHRLHca",
        "colab": {
          "base_uri": "https://localhost:8080/"
        },
        "outputId": "fb027d3c-421f-447f-8517-3caf6cc55aad"
      },
      "source": [
        "# Answer\n",
        "def LRlip_max(self):\n",
        "    \"\"\"Computes the maximum of the lipschitz constants of the gradient of f_i\"\"\"\n",
        "    X, n_samples = self.X, self.n_samples\n",
        "    ### TODO\n",
        "    return np.amax(self.lip_coordinates())\n",
        "    ### END TODO\n",
        "    \n",
        "ModelLogReg.lip_max = LRlip_max\n",
        "\n",
        "answer(LRlip_max, 7)"
      ],
      "execution_count": 25,
      "outputs": [
        {
          "output_type": "stream",
          "text": [
            "Oops… Something's wrong.\n"
          ],
          "name": "stdout"
        }
      ]
    },
    {
      "cell_type": "code",
      "metadata": {
        "id": "HoNOGyfRLHca",
        "colab": {
          "base_uri": "https://localhost:8080/"
        },
        "outputId": "bf18b24c-0175-415d-e30c-8ffa94389935"
      },
      "source": [
        "# Check the method\n",
        "model_logreg.lip_max()"
      ],
      "execution_count": 26,
      "outputs": [
        {
          "output_type": "execute_result",
          "data": {
            "text/plain": [
              "0.577339014320202"
            ]
          },
          "metadata": {
            "tags": []
          },
          "execution_count": 26
        }
      ]
    },
    {
      "cell_type": "markdown",
      "metadata": {
        "id": "ONq7hh1vLHcb"
      },
      "source": [
        "## 2.4 Checks for the logistic regression model\n",
        "\n",
        "### QUESTIONS\n",
        "\n",
        "1. Check numerically the gradient using the function ``checkgrad`` from ``scipy.optimize``, as done for linear regression above.\n",
        "\n",
        "**Remark**: use the function `simu_logreg` to simulate data according to the logistic regression model."
      ]
    },
    {
      "cell_type": "code",
      "metadata": {
        "id": "GhbQTgBxLHcb",
        "colab": {
          "base_uri": "https://localhost:8080/"
        },
        "outputId": "f18e55f3-363b-4255-e2cf-d86997854049"
      },
      "source": [
        "# Answer\r\n",
        "\r\n",
        "X, y = simu_logreg(w0, corr=0.6)\r\n",
        "model = ModelLogReg(X, y, strength=1e-3)\r\n",
        "\r\n",
        "w = np.random.randn(n_features)\r\n",
        "\r\n",
        "print(check_grad(model.loss, model.grad, w))"
      ],
      "execution_count": 27,
      "outputs": [
        {
          "output_type": "stream",
          "text": [
            "0.024577340896919785\n"
          ],
          "name": "stdout"
        }
      ]
    },
    {
      "cell_type": "markdown",
      "metadata": {
        "id": "l2Mh0whoLHcb"
      },
      "source": [
        "<a id='solvers'></a>\n",
        "## 3. Solvers"
      ]
    },
    {
      "cell_type": "markdown",
      "metadata": {
        "id": "W9bribF-LHcc"
      },
      "source": [
        "We now have classes `ModelLinReg` and `ModelLogReg` that allow to compute $f(w)$, $\\nabla f(w)$, \n",
        "$\\nabla f_i(w)$ and $\\frac{\\partial f(w)}{\\partial w_j}$ for the objective $f$\n",
        "given by linear and logistic regression.\n",
        "\n",
        "We want now to implement and compare several solvers to minimize $f$."
      ]
    },
    {
      "cell_type": "markdown",
      "metadata": {
        "id": "Ukv-iov-LHcc"
      },
      "source": [
        "<a id='tools'></a>\n",
        "## 3.1. Tools for the solvers"
      ]
    },
    {
      "cell_type": "code",
      "metadata": {
        "id": "NTi-sOMfLHcc"
      },
      "source": [
        "# Starting point of all solvers\n",
        "w0 = np.zeros(model.n_features)\n",
        "\n",
        "# Number of iterations\n",
        "n_iter = 50\n",
        "\n",
        "# Random samples indices for the stochastic solvers (sgd, sag, svrg)\n",
        "idx_samples = np.random.randint(0, model.n_samples, model.n_samples * n_iter)"
      ],
      "execution_count": 28,
      "outputs": []
    },
    {
      "cell_type": "code",
      "metadata": {
        "id": "Ng7-6x_YLHcd"
      },
      "source": [
        "# Method used to print the objective value at each iteration\n",
        "# It is not necessary to read/understand it\n",
        "def inspector(model, n_iter, verbose=True):\n",
        "    \"\"\"A closure called to update metrics after each iteration.\n",
        "    Don't even look at it, we'll just use it in the solvers.\"\"\"\n",
        "    objectives = []\n",
        "    it = [0] # This is a hack to be able to modify 'it' inside the closure.\n",
        "    def inspector_cl(w):\n",
        "        obj = model.loss(w)\n",
        "        objectives.append(obj)\n",
        "        if verbose == True:\n",
        "            if it[0] == 0:\n",
        "                print(' | '.join([name.center(8) for name in [\"it\", \"obj\"]]))\n",
        "            if it[0] % (n_iter / 5) == 0:\n",
        "                print(' | '.join([(\"%d\" % it[0]).rjust(8), (\"%.2e\" % obj).rjust(8)]))\n",
        "            it[0] += 1\n",
        "    inspector_cl.objectives = objectives\n",
        "    return inspector_cl"
      ],
      "execution_count": 29,
      "outputs": []
    },
    {
      "cell_type": "markdown",
      "metadata": {
        "id": "wMjf0FloLHcd"
      },
      "source": [
        "<a id='gd'></a>\n",
        "## 3.2 Gradient descent\n",
        "\n",
        "### QUESTIONS\n",
        "\n",
        "1. Finish the function `gd` below that implements the gradient descent algorithm.\n",
        "1. Test it using the next cell."
      ]
    },
    {
      "cell_type": "code",
      "metadata": {
        "collapsed": true,
        "id": "S4EXzSaNLHcd",
        "colab": {
          "base_uri": "https://localhost:8080/"
        },
        "outputId": "6a522414-8cd8-4dfd-a513-1490dfe809f4"
      },
      "source": [
        "# Answer\n",
        "def gd(model, w0, n_iter, callback, verbose=True):\n",
        "    \"\"\"Gradient descent\n",
        "    \"\"\"\n",
        "    step = 1 / model.lip()\n",
        "    w = w0.copy()\n",
        "    w_new = w0.copy()\n",
        "    if verbose:\n",
        "        print(\"Lauching GD solver...\")\n",
        "    callback(w)\n",
        "    for k in range(n_iter + 1):\n",
        "        ### TODO\n",
        "        w_new = w - step * model.grad(w)\n",
        "        w = w_new\n",
        "        ### END TODO\n",
        "        callback(w)\n",
        "    return w\n",
        "\n",
        "answer(gd, 8)"
      ],
      "execution_count": 30,
      "outputs": [
        {
          "output_type": "stream",
          "text": [
            "Oops… Something's wrong.\n"
          ],
          "name": "stdout"
        }
      ]
    },
    {
      "cell_type": "code",
      "metadata": {
        "id": "_DP0S_HWLHcd",
        "colab": {
          "base_uri": "https://localhost:8080/"
        },
        "outputId": "9156e548-814b-43b2-f418-23c4df853041"
      },
      "source": [
        "callback_gd = inspector(model, n_iter=n_iter)\n",
        "w_gd = gd(model, w0, n_iter=n_iter, callback=callback_gd)"
      ],
      "execution_count": 31,
      "outputs": [
        {
          "output_type": "stream",
          "text": [
            "Lauching GD solver...\n",
            "   it    |   obj   \n",
            "       0 | 6.93e-01\n",
            "      10 | 6.72e-01\n",
            "      20 | 6.57e-01\n",
            "      30 | 6.45e-01\n",
            "      40 | 6.35e-01\n",
            "      50 | 6.26e-01\n"
          ],
          "name": "stdout"
        }
      ]
    },
    {
      "cell_type": "markdown",
      "metadata": {
        "id": "c3ZjxOTJLHce"
      },
      "source": [
        "<a id='agd'></a>\n",
        "## 3.3 Accelerated gradient descent\n",
        "\n",
        "### QUESTIONS\n",
        "\n",
        "1. Finish the function `agd` below that implements the accelerated gradient descent algorithm.\n",
        "1. Test it using the next cell."
      ]
    },
    {
      "cell_type": "code",
      "metadata": {
        "collapsed": true,
        "id": "vZjE7DzZLHce",
        "colab": {
          "base_uri": "https://localhost:8080/"
        },
        "outputId": "9c9c38e8-deaa-46ca-d04b-bb416231b194"
      },
      "source": [
        "# Answer\n",
        "def agd(model, w0, n_iter, callback, verbose=True):\n",
        "    \"\"\"Accelerated gradient descent\n",
        "    \"\"\"\n",
        "    step = 1 / model.lip()\n",
        "    w = w0.copy()\n",
        "    # Extra variables are required for acceleration\n",
        "    z = w0.copy()\n",
        "    z_new = w0.copy()\n",
        "    t = 1.\n",
        "    t_new = 1.    \n",
        "    if verbose:\n",
        "        print(\"Lauching AGD solver...\")\n",
        "    callback(w)\n",
        "    for k in range(n_iter + 1):\n",
        "        ### TODO\n",
        "        z_new = w - step * model.grad(w)\n",
        "        t_new = (1 + (1 + 4*t**2)**0.5)/2\n",
        "        beta = (t-1)/t_new\n",
        "        w = z_new + beta * (z_new - z)\n",
        "        t = t_new\n",
        "        z = z_new\n",
        "        ### END TODO        \n",
        "        callback(w)\n",
        "    return w\n",
        "\n",
        "answer(agd, 9)"
      ],
      "execution_count": 32,
      "outputs": [
        {
          "output_type": "stream",
          "text": [
            "Oops… Something's wrong.\n"
          ],
          "name": "stdout"
        }
      ]
    },
    {
      "cell_type": "code",
      "metadata": {
        "id": "WJrQUiDTLHcg",
        "colab": {
          "base_uri": "https://localhost:8080/"
        },
        "outputId": "bc122dfb-ad1a-4b34-86a1-5f7f0656db94"
      },
      "source": [
        "callback_agd = inspector(model, n_iter=n_iter)\n",
        "w_agd = agd(model, w0, n_iter=n_iter, callback=callback_agd)"
      ],
      "execution_count": 33,
      "outputs": [
        {
          "output_type": "stream",
          "text": [
            "Lauching AGD solver...\n",
            "   it    |   obj   \n",
            "       0 | 6.93e-01\n",
            "      10 | 6.53e-01\n",
            "      20 | 6.09e-01\n",
            "      30 | 5.75e-01\n",
            "      40 | 5.54e-01\n",
            "      50 | 5.42e-01\n"
          ],
          "name": "stdout"
        }
      ]
    },
    {
      "cell_type": "markdown",
      "metadata": {
        "id": "YIlCTS6dLHcg"
      },
      "source": [
        "<a id='cgd'></a>\n",
        "\n",
        "## 3.4 Coordinate gradient descent\n",
        "\n",
        "### QUESTIONS\n",
        "\n",
        "1. Finish the function `cgd` below that implements the coordinate gradient descent algorithm.\n",
        "1. Test it using the next cell."
      ]
    },
    {
      "cell_type": "code",
      "metadata": {
        "collapsed": true,
        "id": "2j5hRICxLHcg",
        "colab": {
          "base_uri": "https://localhost:8080/"
        },
        "outputId": "758175d1-c14e-4aa1-b1f0-d35fffd7cd1b"
      },
      "source": [
        "# Answer\n",
        "def cgd(model, w0, n_iter, callback, verbose=True):\n",
        "    \"\"\"Coordinate gradient descent\n",
        "    \"\"\"\n",
        "    w = w0.copy()\n",
        "    n_features = model.n_features\n",
        "    steps = 1 / model.lip_coordinates()\n",
        "    if verbose:\n",
        "        print(\"Lauching CGD solver...\")\n",
        "    callback(w)\n",
        "    for k in range(n_iter + 1):\n",
        "        ### TODO\n",
        "        for j in range(n_features):\n",
        "            w[j] = w[j] - steps[j] * model.grad_coordinate(j, w)\n",
        "        ### END TODO\n",
        "        callback(w)\n",
        "    return w\n",
        "\n",
        "answer(cgd, 10)"
      ],
      "execution_count": 34,
      "outputs": [
        {
          "output_type": "stream",
          "text": [
            "Oops… Something's wrong.\n"
          ],
          "name": "stdout"
        }
      ]
    },
    {
      "cell_type": "code",
      "metadata": {
        "id": "0EMa-wdHLHcg",
        "colab": {
          "base_uri": "https://localhost:8080/"
        },
        "outputId": "ff6b0cd4-a885-40f9-c95b-41f1d7ead288"
      },
      "source": [
        "callback_cgd = inspector(model, n_iter=n_iter)\n",
        "w_cgd = cgd(model, w0, n_iter=n_iter, callback=callback_cgd)"
      ],
      "execution_count": 35,
      "outputs": [
        {
          "output_type": "stream",
          "text": [
            "Lauching CGD solver...\n",
            "   it    |   obj   \n",
            "       0 | 6.93e-01\n",
            "      10 | 6.66e-01\n",
            "      20 | 7.87e-01\n",
            "      30 | 6.70e-01\n",
            "      40 | 6.78e-01\n",
            "      50 | 6.83e-01\n"
          ],
          "name": "stdout"
        }
      ]
    },
    {
      "cell_type": "markdown",
      "metadata": {
        "id": "3S5nOLqsLHcg"
      },
      "source": [
        "<a id='sgd'></a>\n",
        "## 3.5. Stochastic gradient descent\n",
        "\n",
        "### QUESTIONS\n",
        "\n",
        "1. Finish the function `sgd` below that implements the st stochastic gradient descent algorithm.\n",
        "1.Test it using the next cell."
      ]
    },
    {
      "cell_type": "code",
      "metadata": {
        "collapsed": true,
        "id": "DwOzKDMnLHch",
        "colab": {
          "base_uri": "https://localhost:8080/"
        },
        "outputId": "24d61810-7b14-4602-b160-fe3037bdd282"
      },
      "source": [
        "# Answer\n",
        "def sgd(model, w0, idx_samples, n_iter, step, callback, verbose=True):\n",
        "    \"\"\"Stochastic gradient descent\n",
        "    \"\"\"\n",
        "    w = w0.copy()\n",
        "    callback(w)\n",
        "    n_samples = model.n_samples\n",
        "    for idx in range(n_iter):\n",
        "        i = idx_samples[idx] % n_samples\n",
        "        ### TODO\n",
        "        w = w - step * model.grad_i(i, w) / (idx+1)**0.5\n",
        "        ### END TODO\n",
        "        if idx % n_samples == 0:\n",
        "            callback(w)\n",
        "    return w\n",
        "\n",
        "answer(sgd, 11)"
      ],
      "execution_count": 36,
      "outputs": [
        {
          "output_type": "stream",
          "text": [
            "Oops… Something's wrong.\n"
          ],
          "name": "stdout"
        }
      ]
    },
    {
      "cell_type": "code",
      "metadata": {
        "id": "CD96YeBeLHch",
        "colab": {
          "base_uri": "https://localhost:8080/"
        },
        "outputId": "512dcd6e-cfdc-4c0c-ee62-520c8acea940"
      },
      "source": [
        "step = 1e-1\n",
        "callback_sgd = inspector(model, n_iter=n_iter)\n",
        "w_sgd = sgd(model, w0, idx_samples, n_iter=model.n_samples * n_iter, \n",
        "            step=step, callback=callback_sgd)"
      ],
      "execution_count": 37,
      "outputs": [
        {
          "output_type": "stream",
          "text": [
            "   it    |   obj   \n",
            "       0 | 6.93e-01\n",
            "      10 | 5.64e-01\n",
            "      20 | 5.51e-01\n",
            "      30 | 5.46e-01\n",
            "      40 | 5.43e-01\n",
            "      50 | 5.41e-01\n"
          ],
          "name": "stdout"
        }
      ]
    },
    {
      "cell_type": "markdown",
      "metadata": {
        "id": "vq20bi1PLHch"
      },
      "source": [
        "<a id='sag'></a>\n",
        "## 3.6. Stochastic average gradient descent\n",
        "\n",
        "\n",
        "### QUESTIONS\n",
        "\n",
        "1. Finish the function `sag` below that implements the stochastic averaged gradient algorithm.\n",
        "1. Test it using the next cell"
      ]
    },
    {
      "cell_type": "code",
      "metadata": {
        "collapsed": true,
        "id": "EHoRC8NeLHch",
        "colab": {
          "base_uri": "https://localhost:8080/"
        },
        "outputId": "d391826c-3a94-4f57-8f34-12bc8de47538"
      },
      "source": [
        "# Answer\n",
        "def sag(model, w0, idx_samples, n_iter, step, callback, verbose=True):\n",
        "    \"\"\"Stochastic average gradient descent\n",
        "    \"\"\"\n",
        "    w = w0.copy()\n",
        "    n_samples, n_features = model.n_samples, model.n_features\n",
        "    gradient_memory = np.zeros((n_samples, n_features))\n",
        "    y = np.zeros(n_features)\n",
        "    callback(w)\n",
        "    for idx in range(n_iter):\n",
        "        i = idx_samples[idx] % n_samples        \n",
        "        ### TODO\n",
        "        y = y - (gradient_memory[i] - model.grad_i(i, w))/n_samples\n",
        "        gradient_memory[i] = model.grad_i(i, w)\n",
        "        w = w - step * y\n",
        "        ### END TODO        \n",
        "        if idx % n_samples == 0:\n",
        "            callback(w)\n",
        "    return w\n",
        "\n",
        "answer(sag, 12)"
      ],
      "execution_count": 38,
      "outputs": [
        {
          "output_type": "stream",
          "text": [
            "Oops… Something's wrong.\n"
          ],
          "name": "stdout"
        }
      ]
    },
    {
      "cell_type": "code",
      "metadata": {
        "id": "wPVpmY5ILHch",
        "colab": {
          "base_uri": "https://localhost:8080/"
        },
        "outputId": "a5e5733a-ab90-4f25-d00e-3f33ec6e80de"
      },
      "source": [
        "step = 1 / model.lip_max()\n",
        "callback_sag = inspector(model, n_iter=n_iter)\n",
        "w_sag = sag(model, w0, idx_samples, n_iter=model.n_samples * n_iter, \n",
        "            step=step, callback=callback_sag)"
      ],
      "execution_count": 39,
      "outputs": [
        {
          "output_type": "stream",
          "text": [
            "   it    |   obj   \n",
            "       0 | 6.93e-01\n"
          ],
          "name": "stdout"
        },
        {
          "output_type": "stream",
          "text": [
            "/usr/local/lib/python3.6/dist-packages/ipykernel_launcher.py:6: RuntimeWarning: divide by zero encountered in log\n",
            "  \n",
            "/usr/local/lib/python3.6/dist-packages/ipykernel_launcher.py:7: RuntimeWarning: overflow encountered in exp\n",
            "  import sys\n",
            "/usr/local/lib/python3.6/dist-packages/ipykernel_launcher.py:7: RuntimeWarning: invalid value encountered in double_scalars\n",
            "  import sys\n"
          ],
          "name": "stderr"
        },
        {
          "output_type": "stream",
          "text": [
            "      10 |      nan\n",
            "      20 |      nan\n",
            "      30 |      nan\n",
            "      40 |      nan\n",
            "      50 |      nan\n"
          ],
          "name": "stdout"
        }
      ]
    },
    {
      "cell_type": "markdown",
      "metadata": {
        "id": "OlNJ-rj-LHci"
      },
      "source": [
        "<a id='svrg'></a>\n",
        "## 3.7. Stochastic variance reduced gradient\n",
        "\n",
        "### QUESTIONS\n",
        "\n",
        "1. Finish the function `svrg` below that implements the stochastic variance reduced gradient algorithm.\n",
        "1. Test it using the next cell."
      ]
    },
    {
      "cell_type": "code",
      "metadata": {
        "collapsed": true,
        "id": "G6fRMe11LHci",
        "colab": {
          "base_uri": "https://localhost:8080/"
        },
        "outputId": "f7345db8-aad0-44fe-8993-eed298f6186d"
      },
      "source": [
        "# Answer\n",
        "def svrg(model, w0, idx_samples, n_iter, step, callback, verbose=True):\n",
        "    \"\"\"Stochastic variance reduced gradient descent\n",
        "    \"\"\"\n",
        "    w = w0.copy()\n",
        "    w_old = w.copy()\n",
        "    n_samples = model.n_samples\n",
        "    callback(w)\n",
        "    for idx in range(n_iter):        \n",
        "        ### TODO\n",
        "        i = idx_samples[idx] % n_samples\n",
        "        w = w - step * (model.grad_i(i, w) - model.grad_i(i, w_old) + model.grad(w_old))\n",
        "        if idx % n_samples == 0:\n",
        "            w_old = w\n",
        "        ### END TODO        \n",
        "        if idx % n_samples == 0:\n",
        "            callback(w)\n",
        "    return w\n",
        "\n",
        "answer(svrg, 13)"
      ],
      "execution_count": 40,
      "outputs": [
        {
          "output_type": "stream",
          "text": [
            "Oops… Something's wrong.\n"
          ],
          "name": "stdout"
        }
      ]
    },
    {
      "cell_type": "code",
      "metadata": {
        "id": "ywTIUNOXLHci",
        "colab": {
          "base_uri": "https://localhost:8080/"
        },
        "outputId": "b83ae17b-9313-4ce0-f4e8-f2c6877690fa"
      },
      "source": [
        "step = 1 / model.lip_max()\n",
        "callback_svrg = inspector(model, n_iter=n_iter)\n",
        "w_svrg = svrg(model, w0, idx_samples, n_iter=model.n_samples * n_iter,\n",
        "              step=step, callback=callback_svrg)"
      ],
      "execution_count": 41,
      "outputs": [
        {
          "output_type": "stream",
          "text": [
            "   it    |   obj   \n",
            "       0 | 6.93e-01\n"
          ],
          "name": "stdout"
        },
        {
          "output_type": "stream",
          "text": [
            "/usr/local/lib/python3.6/dist-packages/ipykernel_launcher.py:6: RuntimeWarning: divide by zero encountered in log\n",
            "  \n",
            "/usr/local/lib/python3.6/dist-packages/ipykernel_launcher.py:7: RuntimeWarning: overflow encountered in exp\n",
            "  import sys\n",
            "/usr/local/lib/python3.6/dist-packages/ipykernel_launcher.py:7: RuntimeWarning: invalid value encountered in double_scalars\n",
            "  import sys\n"
          ],
          "name": "stderr"
        },
        {
          "output_type": "stream",
          "text": [
            "      10 |      nan\n",
            "      20 |      nan\n",
            "      30 |      nan\n",
            "      40 |      nan\n",
            "      50 |      nan\n"
          ],
          "name": "stdout"
        }
      ]
    },
    {
      "cell_type": "markdown",
      "metadata": {
        "id": "jJ69zEOnLHci"
      },
      "source": [
        "<a id='comparison'></a>\n",
        "# 4. Comparison of all algorithms"
      ]
    },
    {
      "cell_type": "code",
      "metadata": {
        "id": "6Y3kApkeLHcj"
      },
      "source": [
        "callbacks = [callback_gd, callback_agd, callback_cgd, callback_sgd, \n",
        "             callback_sag, callback_svrg]\n",
        "names = [\"GD\", \"AGD\", \"CGD\", \"SGD\", \"SAG\", \"SVRG\"]\n",
        "\n",
        "callback_long = inspector(model, n_iter=1000, verbose=False)\n",
        "w_cgd = cgd(model, w0, n_iter=1000, callback=callback_long, verbose=False)\n",
        "obj_min = callback_long.objectives[-1]"
      ],
      "execution_count": 42,
      "outputs": []
    },
    {
      "cell_type": "code",
      "metadata": {
        "id": "n8OjXwq-LHcj",
        "colab": {
          "base_uri": "https://localhost:8080/",
          "height": 369
        },
        "outputId": "367bb15a-2e49-4297-c80e-f80c06db8c53"
      },
      "source": [
        "plt.figure(figsize=(6, 5))\n",
        "# plt.yscale(\"log\")\n",
        "\n",
        "for callback, name in zip(callbacks, names):\n",
        "    objectives = np.array(callback.objectives)\n",
        "    objectives_dist = objectives - obj_min\n",
        "    plt.plot(objectives_dist, label=name, lw=2)\n",
        "\n",
        "plt.tight_layout()\n",
        "# plt.xlim((0, n_iter))\n",
        "plt.xlabel(\"Number of passes on the data\", fontsize=16)\n",
        "plt.ylabel(r\"$F(w^k) - F(w^*)$\", fontsize=16)\n",
        "plt.legend(loc='lower left')\n",
        "plt.tight_layout()"
      ],
      "execution_count": 43,
      "outputs": [
        {
          "output_type": "display_data",
          "data": {
            "image/png": "[encoded data removed]",
            "text/plain": [
              "<Figure size 432x360 with 1 Axes>"
            ]
          },
          "metadata": {
            "tags": [],
            "needs_background": "light"
          }
        }
      ]
    },
    {
      "cell_type": "markdown",
      "metadata": {
        "id": "MjwH61v8LHck"
      },
      "source": [
        "### QUESTIONS\n",
        "\n",
        "1. Compare the minimizers you obtain using the different algorithms, with a large and a small number of iterations. This can be done with `plt.stem` plots.\n",
        "1. In linear regression and logistic regression, study the influence of the correlation of the features on the performance of the optimization algorithms. Explain.\n",
        "1. In linear regression and logistic regression, study the influence of the level of ridge penalization on the performance of the optimization algorithms. Explain.\n",
        "1. (OPTIONAL) All algorithms can be modified to handle an objective of the form $f + g$ with $g$ separable and prox-capable. Modify all the algorithms and try them out for L1 penalization: $w \\in \\mathbb R^d \\mapsto \\lambda \\sum_{j=1}^d |w_j|$."
      ]
    },
    {
      "cell_type": "markdown",
      "metadata": {
        "id": "EemfsQMZdj71"
      },
      "source": [
        "#### Comparing esimators"
      ]
    },
    {
      "cell_type": "code",
      "metadata": {
        "collapsed": true,
        "id": "HqeuPES1LHck"
      },
      "source": [
        "n_features = 50\r\n",
        "n_samples = 1000\r\n",
        "\r\n",
        "idx = np.arange(n_features)\r\n",
        "w = (-1) ** idx * np.exp(-idx / 10.)\r\n",
        "\r\n",
        "X_train, y_train = simu_logreg(w, corr=0.6, n_samples=n_samples)\r\n",
        "model_train = ModelLogReg(X_train, y_train, strength=1e-3)"
      ],
      "execution_count": 44,
      "outputs": []
    },
    {
      "cell_type": "code",
      "metadata": {
        "id": "v_XqQAI4RADU",
        "colab": {
          "base_uri": "https://localhost:8080/"
        },
        "outputId": "e0b8bb9c-e84d-4fac-c410-0c836cf63f18"
      },
      "source": [
        "n_iter = 50\r\n",
        "\r\n",
        "callback_gd = inspector(model_train, n_iter=n_iter, verbose=False)\r\n",
        "w_gd = gd(model_train, w0, n_iter=n_iter, callback=callback_gd, verbose=False)\r\n",
        "\r\n",
        "callback_agd = inspector(model_train, n_iter=n_iter, verbose=False)\r\n",
        "w_agd = agd(model_train, w0, n_iter=n_iter, callback=callback_agd, verbose=False)\r\n",
        "\r\n",
        "callback_cgd = inspector(model_train, n_iter=n_iter, verbose=False)\r\n",
        "w_cgd = cgd(model_train, w0, n_iter=n_iter, callback=callback_cgd, verbose=False)\r\n",
        "\r\n",
        "step = 1e-1\r\n",
        "callback_sgd = inspector(model_train, n_iter=n_iter, verbose=False)\r\n",
        "w_sgd = sgd(model_train, w0, idx_samples, n_iter=n_samples * n_iter, \r\n",
        "            step=step, callback=callback_sgd, verbose=False)\r\n",
        "\r\n",
        "step = 1 / model.lip_max()\r\n",
        "callback_sag = inspector(model_train, n_iter=n_iter, verbose=False)\r\n",
        "w_sag = sag(model_train, w0, idx_samples, n_iter=n_samples * n_iter, \r\n",
        "            step=step, callback=callback_sag, verbose=False)\r\n",
        "\r\n",
        "step = 1 / model.lip_max()\r\n",
        "callback_svrg = inspector(model_train, n_iter=n_iter, verbose=False)\r\n",
        "w_svrg = svrg(model_train, w0, idx_samples, n_iter=n_samples * n_iter,\r\n",
        "              step=step, callback=callback_svrg, verbose=False)\r\n",
        "\r\n",
        "callbacks = [callback_gd, callback_agd, callback_cgd, callback_sgd, \r\n",
        "             callback_sag, callback_svrg]\r\n",
        "names = [\"GD\", \"AGD\", \"CGD\", \"SGD\", \"SAG\", \"SVRG\"]"
      ],
      "execution_count": 45,
      "outputs": [
        {
          "output_type": "stream",
          "text": [
            "/usr/local/lib/python3.6/dist-packages/ipykernel_launcher.py:6: RuntimeWarning: divide by zero encountered in log\n",
            "  \n",
            "/usr/local/lib/python3.6/dist-packages/ipykernel_launcher.py:7: RuntimeWarning: overflow encountered in exp\n",
            "  import sys\n",
            "/usr/local/lib/python3.6/dist-packages/ipykernel_launcher.py:7: RuntimeWarning: invalid value encountered in double_scalars\n",
            "  import sys\n"
          ],
          "name": "stderr"
        }
      ]
    },
    {
      "cell_type": "code",
      "metadata": {
        "colab": {
          "base_uri": "https://localhost:8080/",
          "height": 478
        },
        "id": "ILcgWZB8dYba",
        "outputId": "5a039d77-573b-4163-e73b-50df927b7bb4"
      },
      "source": [
        "plt.figure(figsize=(6, 5))\r\n",
        "plt.yscale(\"log\")\r\n",
        "\r\n",
        "for callback, name in zip(callbacks, names):\r\n",
        "    objectives = np.array(callback.objectives)\r\n",
        "    objectives_dist = objectives - obj_min\r\n",
        "    print(len(objectives_dist))    \r\n",
        "    plt.plot(objectives_dist, label=name, lw=2)\r\n",
        "\r\n",
        "plt.title('Error of estimators')\r\n",
        "plt.tight_layout()\r\n",
        "plt.xlim((0, n_iter))\r\n",
        "plt.xlabel(\"Number of passes on the data\", fontsize=16)\r\n",
        "plt.ylabel(r\"$F(w^k) - F(w^*)$\", fontsize=16)\r\n",
        "plt.legend(loc='upper right')\r\n",
        "plt.tight_layout()"
      ],
      "execution_count": 46,
      "outputs": [
        {
          "output_type": "stream",
          "text": [
            "52\n",
            "52\n",
            "52\n",
            "51\n",
            "51\n",
            "51\n"
          ],
          "name": "stdout"
        },
        {
          "output_type": "display_data",
          "data": {
            "image/png": "[encoded data removed]",
            "text/plain": [
              "<Figure size 432x360 with 1 Axes>"
            ]
          },
          "metadata": {
            "tags": [],
            "needs_background": "light"
          }
        }
      ]
    },
    {
      "cell_type": "code",
      "metadata": {
        "colab": {
          "base_uri": "https://localhost:8080/",
          "height": 369
        },
        "id": "d78qNXiibDzb",
        "outputId": "74497a07-721d-40bf-b7da-b523f796096b"
      },
      "source": [
        "small_iter = 10\r\n",
        "errors_small_iter = [c.objectives[small_iter] for c in callbacks]\r\n",
        "\r\n",
        "plt.figure(figsize=(6, 5))\r\n",
        "plt.yscale(\"log\")\r\n",
        "plt.stem(errors_small_iter, use_line_collection=True)\r\n",
        "\r\n",
        "plt.xticks(range(len(names)), labels=names)\r\n",
        "plt.tight_layout()\r\n",
        "plt.xlabel(\"Algorithms\", fontsize=16)\r\n",
        "plt.ylabel(r\"$F(w^{}) - F(w^*)$\".format({small_iter}), fontsize=16)\r\n",
        "plt.tight_layout()"
      ],
      "execution_count": 47,
      "outputs": [
        {
          "output_type": "display_data",
          "data": {
            "image/png": "[encoded data removed]",
            "text/plain": [
              "<Figure size 432x360 with 1 Axes>"
            ]
          },
          "metadata": {
            "tags": [],
            "needs_background": "light"
          }
        }
      ]
    },
    {
      "cell_type": "code",
      "metadata": {
        "colab": {
          "base_uri": "https://localhost:8080/",
          "height": 369
        },
        "id": "gbzLB11Wc6lE",
        "outputId": "fd2400ce-c3e3-40a5-8b08-b826ed0fb43d"
      },
      "source": [
        "great_iter = 50\r\n",
        "errors_great_iter = [c.objectives[great_iter] for c in callbacks]\r\n",
        "\r\n",
        "plt.figure(figsize=(6, 5))\r\n",
        "plt.yscale(\"log\")\r\n",
        "plt.stem(errors_great_iter, use_line_collection=True)\r\n",
        "\r\n",
        "plt.xticks(range(len(names)), labels=names)\r\n",
        "plt.tight_layout()\r\n",
        "plt.xlabel(\"Algorithms\", fontsize=16)\r\n",
        "plt.ylabel(r\"$F(w^{}) - F(w^*)$\".format({great_iter}), fontsize=16)\r\n",
        "plt.tight_layout()"
      ],
      "execution_count": 48,
      "outputs": [
        {
          "output_type": "display_data",
          "data": {
            "image/png": "[encoded data removed]",
            "text/plain": [
              "<Figure size 432x360 with 1 Axes>"
            ]
          },
          "metadata": {
            "tags": [],
            "needs_background": "light"
          }
        }
      ]
    },
    {
      "cell_type": "markdown",
      "metadata": {
        "id": "H4uzZvwAdvhJ"
      },
      "source": [
        "#### Influence of correlation between features"
      ]
    },
    {
      "cell_type": "code",
      "metadata": {
        "collapsed": true,
        "colab": {
          "base_uri": "https://localhost:8080/"
        },
        "id": "gefjTF9WjW-S",
        "outputId": "8ba58854-c4a3-41cc-96a4-b52df2bec66c"
      },
      "source": [
        "n_features = 50\r\n",
        "n_samples = 500\r\n",
        "\r\n",
        "corr = 0.1\r\n",
        "\r\n",
        "print('Testing algorithms with corr = ', corr)\r\n",
        "idx = np.arange(n_features)\r\n",
        "w = (-1) ** idx * np.exp(-idx / 10.)\r\n",
        "\r\n",
        "X_train, y_train = simu_linreg(w, n_samples=n_samples, corr = corr)\r\n",
        "model_train = ModelLinReg(X_train, y_train, strength=1e-3)\r\n",
        "\r\n",
        "n_iter = 20\r\n",
        "\r\n",
        "callback_gd = inspector(model_train, n_iter=n_iter, verbose=False)\r\n",
        "w_gd = gd(model, w0, n_iter=n_iter, callback=callback_gd, verbose=False)\r\n",
        "\r\n",
        "callback_agd = inspector(model_train, n_iter=n_iter, verbose=False)\r\n",
        "w_agd = agd(model, w0, n_iter=n_iter, callback=callback_agd, verbose=False)\r\n",
        "\r\n",
        "callback_cgd = inspector(model_train, n_iter=n_iter, verbose=False)\r\n",
        "w_cgd = cgd(model, w0, n_iter=n_iter, callback=callback_cgd, verbose=False)\r\n",
        "\r\n",
        "step = 1e-1\r\n",
        "callback_sgd = inspector(model_train, n_iter=n_iter, verbose=False)\r\n",
        "w_sgd = sgd(model, w0, idx_samples, n_iter=model.n_samples * n_iter, \r\n",
        "            step=step, callback=callback_sgd, verbose=False)\r\n",
        "\r\n",
        "step = 1 / model.lip_max()\r\n",
        "callback_sag = inspector(model_train, n_iter=n_iter, verbose=False)\r\n",
        "w_sag = sag(model, w0, idx_samples, n_iter=model.n_samples * n_iter, \r\n",
        "            step=step, callback=callback_sag, verbose=False)\r\n",
        "\r\n",
        "step = 1 / model.lip_max()\r\n",
        "callback_svrg = inspector(model_train, n_iter=n_iter, verbose=False)\r\n",
        "w_svrg = svrg(model, w0, idx_samples, n_iter=model.n_samples * n_iter,\r\n",
        "              step=step, callback=callback_svrg, verbose=False)\r\n",
        "\r\n",
        "callbacks = [callback_gd, callback_agd, callback_cgd, callback_sgd, \r\n",
        "             callback_sag, callback_svrg]\r\n",
        "names = [\"GD\", \"AGD\", \"CGD\", \"SGD\", \"SAG\", \"SVRG\"]\r\n",
        "\r\n",
        "plt.figure(figsize=(6, 5))\r\n",
        "plt.yscale(\"log\")\r\n",
        "\r\n",
        "for callback, name in zip(callbacks, names):\r\n",
        "    objectives = np.array(callback.objectives)\r\n",
        "    objectives_dist = objectives - obj_min    \r\n",
        "    plt.plot(objectives_dist, label=name, lw=2)\r\n",
        "\r\n",
        "plt.title('Error of estimators')\r\n",
        "plt.tight_layout()\r\n",
        "plt.xlim((0, n_iter))\r\n",
        "plt.xlabel(\"Number of passes on the data\", fontsize=16)\r\n",
        "plt.ylabel(r\"$F(w^k) - F(w^*)$\", fontsize=16)\r\n",
        "plt.legend(loc='upper right')\r\n",
        "plt.tight_layout()\r\n"
      ],
      "execution_count": null,
      "outputs": [
        {
          "output_type": "stream",
          "text": [
            "Testing algorithms with corr =  0.1\n"
          ],
          "name": "stdout"
        }
      ]
    },
    {
      "cell_type": "code",
      "metadata": {
        "id": "L5NDMZtnj4nV"
      },
      "source": [
        "n_features = 50\r\n",
        "n_samples = 500\r\n",
        "\r\n",
        "corr = .9\r\n",
        "\r\n",
        "print('Testing algorithms with corr = ', corr)\r\n",
        "idx = np.arange(n_features)\r\n",
        "w = (-1) ** idx * np.exp(-idx / 10.)\r\n",
        "\r\n",
        "X_train, y_train = simu_linreg(w, n_samples=n_samples, corr = corr)\r\n",
        "model_train = ModelLinReg(X_train, y_train, strength=1e-3)\r\n",
        "\r\n",
        "n_iter = 20\r\n",
        "\r\n",
        "callback_gd = inspector(model_train, n_iter=n_iter, verbose=False)\r\n",
        "w_gd = gd(model, w0, n_iter=n_iter, callback=callback_gd, verbose=False)\r\n",
        "\r\n",
        "callback_agd = inspector(model_train, n_iter=n_iter, verbose=False)\r\n",
        "w_agd = agd(model, w0, n_iter=n_iter, callback=callback_agd, verbose=False)\r\n",
        "\r\n",
        "callback_cgd = inspector(model_train, n_iter=n_iter, verbose=False)\r\n",
        "w_cgd = cgd(model, w0, n_iter=n_iter, callback=callback_cgd, verbose=False)\r\n",
        "\r\n",
        "step = 1e-1\r\n",
        "callback_sgd = inspector(model_train, n_iter=n_iter, verbose=False)\r\n",
        "w_sgd = sgd(model, w0, idx_samples, n_iter=model.n_samples * n_iter, \r\n",
        "            step=step, callback=callback_sgd, verbose=False)\r\n",
        "\r\n",
        "step = 1 / model.lip_max()\r\n",
        "callback_sag = inspector(model_train, n_iter=n_iter, verbose=False)\r\n",
        "w_sag = sag(model, w0, idx_samples, n_iter=model.n_samples * n_iter, \r\n",
        "            step=step, callback=callback_sag, verbose=False)\r\n",
        "\r\n",
        "step = 1 / model.lip_max()\r\n",
        "callback_svrg = inspector(model_train, n_iter=n_iter, verbose=False)\r\n",
        "w_svrg = svrg(model, w0, idx_samples, n_iter=model.n_samples * n_iter,\r\n",
        "              step=step, callback=callback_svrg, verbose=False)\r\n",
        "\r\n",
        "callbacks = [callback_gd, callback_agd, callback_cgd, callback_sgd, \r\n",
        "             callback_sag, callback_svrg]\r\n",
        "names = [\"GD\", \"AGD\", \"CGD\", \"SGD\", \"SAG\", \"SVRG\"]\r\n",
        "\r\n",
        "plt.figure(figsize=(6, 5))\r\n",
        "plt.yscale(\"log\")\r\n",
        "\r\n",
        "for callback, name in zip(callbacks, names):\r\n",
        "    objectives = np.array(callback.objectives)\r\n",
        "    objectives_dist = objectives - obj_min    \r\n",
        "    plt.plot(objectives_dist, label=name, lw=2)\r\n",
        "\r\n",
        "plt.title('Error of estimators')\r\n",
        "plt.tight_layout()\r\n",
        "plt.xlim((0, n_iter))\r\n",
        "plt.xlabel(\"Number of passes on the data\", fontsize=16)\r\n",
        "plt.ylabel(r\"$F(w^k) - F(w^*)$\", fontsize=16)\r\n",
        "plt.legend(loc='upper right')\r\n",
        "plt.tight_layout()\r\n"
      ],
      "execution_count": null,
      "outputs": []
    },
    {
      "cell_type": "markdown",
      "metadata": {
        "id": "oY1prpnAdw0y"
      },
      "source": [
        "#### Influence of ridge penalization"
      ]
    },
    {
      "cell_type": "code",
      "metadata": {
        "id": "6HasdHuy1m_S"
      },
      "source": [
        "n_features = 50\r\n",
        "n_samples = 500\r\n",
        "n_samples_test = 100\r\n",
        "\r\n",
        "lambda_ = 1e-3\r\n",
        "\r\n",
        "print('Testing algorithms with lambda = ', lambda_)\r\n",
        "idx = np.arange(n_features)\r\n",
        "w = (-1) ** idx * np.exp(-idx / 10.)\r\n",
        "\r\n",
        "X_train, y_train = simu_linreg(w, n_samples=n_samples)\r\n",
        "model_train = ModelLinReg(X_train, y_train, strength=lambda_)\r\n",
        "\r\n",
        "n_iter = 20\r\n",
        "\r\n",
        "callback_gd = inspector(model_train, n_iter=n_iter, verbose=False)\r\n",
        "w_gd = gd(model, w0, n_iter=n_iter, callback=callback_gd, verbose=False)\r\n",
        "\r\n",
        "callback_agd = inspector(model_train, n_iter=n_iter, verbose=False)\r\n",
        "w_agd = agd(model, w0, n_iter=n_iter, callback=callback_agd, verbose=False)\r\n",
        "\r\n",
        "callback_cgd = inspector(model_train, n_iter=n_iter, verbose=False)\r\n",
        "w_cgd = cgd(model, w0, n_iter=n_iter, callback=callback_cgd, verbose=False)\r\n",
        "\r\n",
        "step = 1e-1\r\n",
        "callback_sgd = inspector(model_train, n_iter=n_iter, verbose=False)\r\n",
        "w_sgd = sgd(model, w0, idx_samples, n_iter=model.n_samples * n_iter, \r\n",
        "            step=step, callback=callback_sgd, verbose=False)\r\n",
        "\r\n",
        "step = 1 / model.lip_max()\r\n",
        "callback_sag = inspector(model_train, n_iter=n_iter, verbose=False)\r\n",
        "w_sag = sag(model, w0, idx_samples, n_iter=model.n_samples * n_iter, \r\n",
        "            step=step, callback=callback_sag, verbose=False)\r\n",
        "\r\n",
        "step = 1 / model.lip_max()\r\n",
        "callback_svrg = inspector(model_train, n_iter=n_iter, verbose=False)\r\n",
        "w_svrg = svrg(model, w0, idx_samples, n_iter=model.n_samples * n_iter,\r\n",
        "              step=step, callback=callback_svrg, verbose=False)\r\n",
        "\r\n",
        "callbacks = [callback_gd, callback_agd, callback_cgd, callback_sgd, \r\n",
        "             callback_sag, callback_svrg]\r\n",
        "names = [\"GD\", \"AGD\", \"CGD\", \"SGD\", \"SAG\", \"SVRG\"]\r\n",
        "\r\n",
        "plt.figure(figsize=(6, 5))\r\n",
        "plt.yscale(\"log\")\r\n",
        "\r\n",
        "for callback, name in zip(callbacks, names):\r\n",
        "    objectives = np.array(callback.objectives)\r\n",
        "    objectives_dist = objectives - obj_min    \r\n",
        "    plt.plot(objectives_dist, label=name, lw=2)\r\n",
        "\r\n",
        "plt.title('Error of estimators')\r\n",
        "plt.tight_layout()\r\n",
        "plt.xlim((0, n_iter))\r\n",
        "plt.xlabel(\"Number of passes on the data\", fontsize=16)\r\n",
        "plt.ylabel(r\"$F(w^k) - F(w^*)$\", fontsize=16)\r\n",
        "plt.legend(loc='lower left')\r\n",
        "plt.tight_layout()\r\n"
      ],
      "execution_count": null,
      "outputs": []
    },
    {
      "cell_type": "code",
      "metadata": {
        "id": "LY1D0QAV1ps9"
      },
      "source": [
        "n_features = 50\r\n",
        "n_samples = 500\r\n",
        "n_samples_test = 100\r\n",
        "\r\n",
        "lambda_ = 1\r\n",
        "\r\n",
        "print('Testing algorithms with lambda = ', lambda_)\r\n",
        "idx = np.arange(n_features)\r\n",
        "w = (-1) ** idx * np.exp(-idx / 10.)\r\n",
        "\r\n",
        "# X_train, y_train = simu_linreg(w, n_samples=n_samples)\r\n",
        "model_train = ModelLinReg(X_train, y_train, strength=lambda_)\r\n",
        "\r\n",
        "n_iter = 20\r\n",
        "\r\n",
        "callback_gd = inspector(model_train, n_iter=n_iter, verbose=False)\r\n",
        "w_gd = gd(model, w0, n_iter=n_iter, callback=callback_gd, verbose=False)\r\n",
        "\r\n",
        "callback_agd = inspector(model_train, n_iter=n_iter, verbose=False)\r\n",
        "w_agd = agd(model, w0, n_iter=n_iter, callback=callback_agd, verbose=False)\r\n",
        "\r\n",
        "callback_cgd = inspector(model_train, n_iter=n_iter, verbose=False)\r\n",
        "w_cgd = cgd(model, w0, n_iter=n_iter, callback=callback_cgd, verbose=False)\r\n",
        "\r\n",
        "step = 1e-1\r\n",
        "callback_sgd = inspector(model_train, n_iter=n_iter, verbose=False)\r\n",
        "w_sgd = sgd(model, w0, idx_samples, n_iter=model.n_samples * n_iter, \r\n",
        "            step=step, callback=callback_sgd, verbose=False)\r\n",
        "\r\n",
        "step = 1 / model.lip_max()\r\n",
        "callback_sag = inspector(model_train, n_iter=n_iter, verbose=False)\r\n",
        "w_sag = sag(model, w0, idx_samples, n_iter=model.n_samples * n_iter, \r\n",
        "            step=step, callback=callback_sag, verbose=False)\r\n",
        "\r\n",
        "step = 1 / model.lip_max()\r\n",
        "callback_svrg = inspector(model_train, n_iter=n_iter, verbose=False)\r\n",
        "w_svrg = svrg(model, w0, idx_samples, n_iter=model.n_samples * n_iter,\r\n",
        "              step=step, callback=callback_svrg, verbose=False)\r\n",
        "\r\n",
        "callbacks = [callback_gd, callback_agd, callback_cgd, callback_sgd, \r\n",
        "             callback_sag, callback_svrg]\r\n",
        "names = [\"GD\", \"AGD\", \"CGD\", \"SGD\", \"SAG\", \"SVRG\"]\r\n",
        "\r\n",
        "plt.figure(figsize=(6, 5))\r\n",
        "plt.yscale(\"log\")\r\n",
        "\r\n",
        "for callback, name in zip(callbacks, names):\r\n",
        "    objectives = np.array(callback.objectives)\r\n",
        "    objectives_dist = objectives - obj_min    \r\n",
        "    plt.plot(objectives_dist, label=name, lw=2)\r\n",
        "\r\n",
        "plt.title('Error of estimators')\r\n",
        "plt.tight_layout()\r\n",
        "plt.xlim((0, n_iter))\r\n",
        "plt.xlabel(\"Number of passes on the data\", fontsize=16)\r\n",
        "plt.ylabel(r\"$F(w^k) - F(w^*)$\", fontsize=16)\r\n",
        "plt.legend(loc='upper right')\r\n",
        "plt.tight_layout()\r\n"
      ],
      "execution_count": null,
      "outputs": []
    },
    {
      "cell_type": "code",
      "metadata": {
        "id": "3lB-y7F6SrzT"
      },
      "source": [
        ""
      ],
      "execution_count": null,
      "outputs": []
    }
  ]
}